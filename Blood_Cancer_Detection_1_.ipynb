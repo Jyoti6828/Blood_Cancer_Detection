{
  "nbformat": 4,
  "nbformat_minor": 0,
  "metadata": {
    "colab": {
      "name": "Blood Cancer Detection_1 .ipynb",
      "provenance": [],
      "collapsed_sections": []
    },
    "kernelspec": {
      "name": "python3",
      "display_name": "Python 3"
    },
    "language_info": {
      "name": "python"
    }
  },
  "cells": [
    {
      "cell_type": "markdown",
      "metadata": {
        "id": "NY1YmkqrWKSW"
      },
      "source": [
        "# Blood Cancer Detection Using CNN Algotithm"
      ]
    },
    {
      "cell_type": "code",
      "metadata": {
        "id": "kKNmr_Cdjmec"
      },
      "source": [
        "import warnings \n",
        "warnings.filterwarnings('ignore')"
      ],
      "execution_count": null,
      "outputs": []
    },
    {
      "cell_type": "code",
      "metadata": {
        "id": "8_VBolLnjtrj",
        "colab": {
          "base_uri": "https://localhost:8080/"
        },
        "outputId": "02cff2d9-a036-4081-e8b2-8ddcd790c148"
      },
      "source": [
        "#to get data from\n",
        "!wget https://www.dropbox.com/sh/zh3dbchrafaqge4/AACIfYbVN7TRCWsRYsX9jZaka?dl=0"
      ],
      "execution_count": null,
      "outputs": [
        {
          "output_type": "stream",
          "name": "stdout",
          "text": [
            "--2021-12-24 16:43:47--  https://www.dropbox.com/sh/zh3dbchrafaqge4/AACIfYbVN7TRCWsRYsX9jZaka?dl=0\n",
            "Resolving www.dropbox.com (www.dropbox.com)... 162.125.3.18, 2620:100:6018:18::a27d:312\n",
            "Connecting to www.dropbox.com (www.dropbox.com)|162.125.3.18|:443... connected.\n",
            "HTTP request sent, awaiting response... 301 Moved Permanently\n",
            "Location: /sh/raw/zh3dbchrafaqge4/AACIfYbVN7TRCWsRYsX9jZaka [following]\n",
            "--2021-12-24 16:43:47--  https://www.dropbox.com/sh/raw/zh3dbchrafaqge4/AACIfYbVN7TRCWsRYsX9jZaka\n",
            "Reusing existing connection to www.dropbox.com:443.\n",
            "HTTP request sent, awaiting response... 302 Found\n",
            "Location: https://uc983ed3ef614ddf38f4b2ebc58c.dl.dropboxusercontent.com/zip_download_get/A_2MVE9fsi5iwY5D_AG1Vd3VzwdUA0tOtHGk8rtrAVUjdcamEVJ86xxh_QYOuB5zudQyEsb4xF3ApbEFYNhr3YIa46nsovtkZr4gbrEYqLyzcA# [following]\n",
            "--2021-12-24 16:43:48--  https://uc983ed3ef614ddf38f4b2ebc58c.dl.dropboxusercontent.com/zip_download_get/A_2MVE9fsi5iwY5D_AG1Vd3VzwdUA0tOtHGk8rtrAVUjdcamEVJ86xxh_QYOuB5zudQyEsb4xF3ApbEFYNhr3YIa46nsovtkZr4gbrEYqLyzcA\n",
            "Resolving uc983ed3ef614ddf38f4b2ebc58c.dl.dropboxusercontent.com (uc983ed3ef614ddf38f4b2ebc58c.dl.dropboxusercontent.com)... 162.125.3.15, 2620:100:6018:15::a27d:30f\n",
            "Connecting to uc983ed3ef614ddf38f4b2ebc58c.dl.dropboxusercontent.com (uc983ed3ef614ddf38f4b2ebc58c.dl.dropboxusercontent.com)|162.125.3.15|:443... connected.\n",
            "HTTP request sent, awaiting response... 200 OK\n",
            "Length: 844241 (824K) [application/zip]\n",
            "Saving to: ‘AACIfYbVN7TRCWsRYsX9jZaka?dl=0’\n",
            "\n",
            "AACIfYbVN7TRCWsRYsX 100%[===================>] 824.45K  1.40MB/s    in 0.6s    \n",
            "\n",
            "2021-12-24 16:43:49 (1.40 MB/s) - ‘AACIfYbVN7TRCWsRYsX9jZaka?dl=0’ saved [844241/844241]\n",
            "\n"
          ]
        }
      ]
    },
    {
      "cell_type": "code",
      "metadata": {
        "id": "b8O6JUa1kSqV",
        "colab": {
          "base_uri": "https://localhost:8080/"
        },
        "outputId": "c91f9d6b-efde-4664-90c9-94b287adb3e3"
      },
      "source": [
        "!unzip /content/AACIfYbVN7TRCWsRYsX9jZaka?dl=0"
      ],
      "execution_count": null,
      "outputs": [
        {
          "output_type": "stream",
          "name": "stdout",
          "text": [
            "Archive:  /content/AACIfYbVN7TRCWsRYsX9jZaka?dl=0\n",
            "warning:  stripped absolute path spec from /\n",
            "mapname:  conversion of  failed\n",
            "   creating: Blood_Cancer_Detection/\n",
            "   creating: Blood_Cancer_Detection/No/\n",
            "   creating: Blood_Cancer_Detection/Yes/\n",
            " extracting: Blood_Cancer_Detection/No/Normal_30.jpeg  \n",
            " extracting: Blood_Cancer_Detection/No/Normal_19.jpeg  \n",
            " extracting: Blood_Cancer_Detection/No/Normal_17.jpeg  \n",
            " extracting: Blood_Cancer_Detection/No/Normal_13.jpeg  \n",
            " extracting: Blood_Cancer_Detection/No/Normal_42.jpeg  \n",
            " extracting: Blood_Cancer_Detection/No/Normal_31.jpeg  \n",
            " extracting: Blood_Cancer_Detection/No/Normal_12.jpeg  \n",
            " extracting: Blood_Cancer_Detection/No/Normal_57.jpeg  \n",
            " extracting: Blood_Cancer_Detection/No/Normal_52.jpeg  \n",
            " extracting: Blood_Cancer_Detection/No/Normal_49.jpeg  \n",
            " extracting: Blood_Cancer_Detection/No/Normal_18.jpeg  \n",
            " extracting: Blood_Cancer_Detection/No/Normal_20.jpeg  \n",
            " extracting: Blood_Cancer_Detection/No/Normal_04.jpeg  \n",
            " extracting: Blood_Cancer_Detection/No/Normal_26.jpeg  \n",
            " extracting: Blood_Cancer_Detection/No/Normal_08.jpeg  \n",
            " extracting: Blood_Cancer_Detection/No/Normal_03.jpeg  \n",
            " extracting: Blood_Cancer_Detection/No/Normal_29.jpeg  \n",
            " extracting: Blood_Cancer_Detection/No/Normal_14.jpeg  \n",
            " extracting: Blood_Cancer_Detection/No/Normal_39.jpeg  \n",
            " extracting: Blood_Cancer_Detection/No/Normal_47.jpeg  \n",
            " extracting: Blood_Cancer_Detection/No/Normal_09.jpeg  \n",
            " extracting: Blood_Cancer_Detection/No/Normal_35.jpeg  \n",
            " extracting: Blood_Cancer_Detection/No/Normal_15.jpeg  \n",
            " extracting: Blood_Cancer_Detection/No/Normal_53.jpeg  \n",
            " extracting: Blood_Cancer_Detection/No/Normal_16.jpeg  \n",
            " extracting: Blood_Cancer_Detection/No/Normal_02.jpeg  \n",
            " extracting: Blood_Cancer_Detection/No/Normal_22.jpeg  \n",
            " extracting: Blood_Cancer_Detection/No/Normal_32.jpeg  \n",
            " extracting: Blood_Cancer_Detection/No/Normal_55.jpeg  \n",
            " extracting: Blood_Cancer_Detection/No/Normal_37.jpeg  \n",
            " extracting: Blood_Cancer_Detection/No/Normal_23.jpeg  \n",
            " extracting: Blood_Cancer_Detection/No/Normal_10.jpeg  \n",
            " extracting: Blood_Cancer_Detection/No/Normal_27.jpeg  \n",
            " extracting: Blood_Cancer_Detection/No/Normal_46.jpeg  \n",
            " extracting: Blood_Cancer_Detection/No/Normal_54.jpeg  \n",
            " extracting: Blood_Cancer_Detection/No/Normal_48.jpeg  \n",
            " extracting: Blood_Cancer_Detection/No/Normal_36.jpeg  \n",
            " extracting: Blood_Cancer_Detection/No/Normal_24.jpeg  \n",
            " extracting: Blood_Cancer_Detection/No/Normal_56.jpeg  \n",
            " extracting: Blood_Cancer_Detection/No/Normal_21.jpeg  \n",
            " extracting: Blood_Cancer_Detection/No/Normal_50.jpeg  \n",
            " extracting: Blood_Cancer_Detection/No/Normal_05.jpeg  \n",
            " extracting: Blood_Cancer_Detection/No/Normal_25.jpeg  \n",
            " extracting: Blood_Cancer_Detection/No/Normal_44.jpeg  \n",
            " extracting: Blood_Cancer_Detection/No/Normal_41.jpeg  \n",
            " extracting: Blood_Cancer_Detection/No/Normal_58.jpeg  \n",
            " extracting: Blood_Cancer_Detection/No/Normal_11.jpeg  \n",
            " extracting: Blood_Cancer_Detection/No/Normal_45.jpeg  \n",
            " extracting: Blood_Cancer_Detection/No/Normal_43.jpeg  \n",
            " extracting: Blood_Cancer_Detection/No/Normal_01.jpeg  \n",
            " extracting: Blood_Cancer_Detection/No/Normal_07.jpeg  \n",
            " extracting: Blood_Cancer_Detection/No/Normal_38.jpeg  \n",
            " extracting: Blood_Cancer_Detection/No/Normal_51.jpeg  \n",
            " extracting: Blood_Cancer_Detection/No/Normal_06.jpeg  \n",
            " extracting: Blood_Cancer_Detection/No/Normal_40.jpeg  \n",
            " extracting: Blood_Cancer_Detection/No/Normal_34.jpeg  \n",
            " extracting: Blood_Cancer_Detection/No/Normal_33.jpeg  \n",
            " extracting: Blood_Cancer_Detection/No/Normal_28.jpeg  \n",
            " extracting: Blood_Cancer_Detection/Yes/Cancer_31.jpeg  \n",
            " extracting: Blood_Cancer_Detection/Yes/Cancer_05.jpeg  \n",
            " extracting: Blood_Cancer_Detection/Yes/Cancer_06.jpeg  \n",
            " extracting: Blood_Cancer_Detection/Yes/Cancer_08.jpeg  \n",
            " extracting: Blood_Cancer_Detection/Yes/Cancer_02.jpeg  \n",
            " extracting: Blood_Cancer_Detection/Yes/Cancer_43.jpeg  \n",
            " extracting: Blood_Cancer_Detection/Yes/Cancer_46.jpeg  \n",
            " extracting: Blood_Cancer_Detection/Yes/Cancer_10.jpeg  \n",
            " extracting: Blood_Cancer_Detection/Yes/Cancer_13.jpeg  \n",
            " extracting: Blood_Cancer_Detection/Yes/Cancer_23.jpeg  \n",
            " extracting: Blood_Cancer_Detection/Yes/Cancer_16.jpeg  \n",
            " extracting: Blood_Cancer_Detection/Yes/Cancer_15.jpeg  \n",
            " extracting: Blood_Cancer_Detection/Yes/Cancer_17.jpeg  \n",
            " extracting: Blood_Cancer_Detection/Yes/Cancer_19.jpeg  \n",
            " extracting: Blood_Cancer_Detection/Yes/Cancer_39.jpeg  \n",
            " extracting: Blood_Cancer_Detection/Yes/Cancer_32.jpeg  \n",
            " extracting: Blood_Cancer_Detection/Yes/Cancer_34.jpeg  \n",
            " extracting: Blood_Cancer_Detection/Yes/Cancer_18.jpeg  \n",
            " extracting: Blood_Cancer_Detection/Yes/Cancer_36.jpeg  \n",
            " extracting: Blood_Cancer_Detection/Yes/Cancer_37.jpeg  \n",
            " extracting: Blood_Cancer_Detection/Yes/Cancer_01.jpeg  \n",
            " extracting: Blood_Cancer_Detection/Yes/Cancer_41.jpeg  \n",
            " extracting: Blood_Cancer_Detection/Yes/Cancer_38.jpeg  \n",
            " extracting: Blood_Cancer_Detection/Yes/Cancer_21.jpeg  \n",
            " extracting: Blood_Cancer_Detection/Yes/Cancer_14.jpeg  \n",
            " extracting: Blood_Cancer_Detection/Yes/Cancer_12.jpeg  \n",
            " extracting: Blood_Cancer_Detection/Yes/Cancer_04.jpeg  \n",
            " extracting: Blood_Cancer_Detection/Yes/Cancer_40.jpeg  \n",
            " extracting: Blood_Cancer_Detection/Yes/Cancer_42.jpeg  \n",
            " extracting: Blood_Cancer_Detection/Yes/Cancer_44.jpeg  \n",
            " extracting: Blood_Cancer_Detection/Yes/Cancer_11.jpeg  \n",
            " extracting: Blood_Cancer_Detection/Yes/Cancer_27.jpeg  \n",
            " extracting: Blood_Cancer_Detection/Yes/Cancer_29.jpeg  \n",
            " extracting: Blood_Cancer_Detection/Yes/Cancer_28.jpeg  \n",
            " extracting: Blood_Cancer_Detection/Yes/Cancer_26.jpeg  \n",
            " extracting: Blood_Cancer_Detection/Yes/Cancer_24.jpeg  \n",
            " extracting: Blood_Cancer_Detection/Yes/Cancer_35.jpeg  \n",
            " extracting: Blood_Cancer_Detection/Yes/Cancer_22.jpeg  \n",
            " extracting: Blood_Cancer_Detection/Yes/Cancer_30.jpeg  \n",
            " extracting: Blood_Cancer_Detection/Yes/Cancer_07.jpeg  \n",
            " extracting: Blood_Cancer_Detection/Yes/Cancer_33.jpeg  \n",
            " extracting: Blood_Cancer_Detection/Yes/Cancer_09.jpeg  \n",
            "\n",
            "1 archive had fatal errors.\n"
          ]
        }
      ]
    },
    {
      "cell_type": "code",
      "metadata": {
        "id": "37UcWLdSkSry"
      },
      "source": [
        "#import some libriries\n",
        "from IPython.core.display import Image\n",
        "import numpy as np\n",
        "import matplotlib.pyplot as plt \n",
        "import os \n",
        "import math\n",
        "import shutil \n",
        "import glob \n",
        "from PIL import Image"
      ],
      "execution_count": null,
      "outputs": []
    },
    {
      "cell_type": "code",
      "metadata": {
        "id": "9bn4zswEvDLC"
      },
      "source": [
        "#count the number of images\n",
        "ROOT_DIR=\"/content/Blood_Cancer_Detection\"\n",
        "number_of_images ={}\n",
        "\n",
        "for dir in os.listdir(ROOT_DIR):\n",
        "  number_of_images[dir] = len(os.listdir(os.path.join(ROOT_DIR, dir)))\n"
      ],
      "execution_count": null,
      "outputs": []
    },
    {
      "cell_type": "code",
      "metadata": {
        "id": "IIbKy8p4wJjJ",
        "colab": {
          "base_uri": "https://localhost:8080/"
        },
        "outputId": "ba1a0a0d-efe4-463e-c45b-23b49d5b9a1c"
      },
      "source": [
        "#shows count of images \n",
        "number_of_images.items()\n"
      ],
      "execution_count": null,
      "outputs": [
        {
          "output_type": "execute_result",
          "data": {
            "text/plain": [
              "dict_items([('Yes', 42), ('No', 58)])"
            ]
          },
          "metadata": {},
          "execution_count": 6
        }
      ]
    },
    {
      "cell_type": "code",
      "metadata": {
        "id": "-L7RJ8HNwjDa",
        "colab": {
          "base_uri": "https://localhost:8080/"
        },
        "outputId": "b53dc6fa-2ca4-488d-83ca-65f8254d65e9"
      },
      "source": [
        "#shows folders in directives\n",
        "os.listdir(\"/content/Blood_Cancer_Detection\")"
      ],
      "execution_count": null,
      "outputs": [
        {
          "output_type": "execute_result",
          "data": {
            "text/plain": [
              "['Yes', 'No']"
            ]
          },
          "metadata": {},
          "execution_count": 7
        }
      ]
    },
    {
      "cell_type": "code",
      "metadata": {
        "id": "OaJuBlhzwoci",
        "colab": {
          "base_uri": "https://localhost:8080/"
        },
        "outputId": "59f1f05c-7beb-4a01-80b8-890b737e54f4"
      },
      "source": [
        "#shows length of directives\n",
        "len(os.listdir(\"/content/Blood_Cancer_Detection\"))"
      ],
      "execution_count": null,
      "outputs": [
        {
          "output_type": "execute_result",
          "data": {
            "text/plain": [
              "2"
            ]
          },
          "metadata": {},
          "execution_count": 8
        }
      ]
    },
    {
      "cell_type": "markdown",
      "metadata": {
        "id": "XUELF4GWxg8i"
      },
      "source": [
        "##### We will split the data \n",
        " * 70% for Train Data\n",
        " * 15% for Validation\n",
        " * 15% for Test Data"
      ]
    },
    {
      "cell_type": "code",
      "metadata": {
        "id": "tvtGM23fGTe0"
      },
      "source": [
        "#We will create a folder\n",
        "def dataFolder(p,split):\n",
        "  if not os.path.exists(\"./\"+p):\n",
        "    os.mkdir(\"./\"+p)\n",
        "    for dir in os.listdir(ROOT_DIR):\n",
        "      os.makedirs(\"./\"+p+\"/\" + dir)\n",
        "      for img in np.random.choice(a=os.listdir(os.path.join(ROOT_DIR,dir)), \n",
        "                                size =(math.floor(70/100*number_of_images[dir])-5),\n",
        "                                replace=False):\n",
        "        O = os.path.join(ROOT_DIR, dir,img) #Complete Path not image\n",
        "        D = os.path.join(\"./\"+p, dir)\n",
        "        os.remove(O)\n",
        "    else:\n",
        "      (f\"{p} The folder Exsist\")\n",
        "\n"
      ],
      "execution_count": null,
      "outputs": []
    },
    {
      "cell_type": "code",
      "metadata": {
        "id": "LywPAXGGCo_E"
      },
      "source": [
        "dataFolder(\"train\", 0.5)"
      ],
      "execution_count": null,
      "outputs": []
    },
    {
      "cell_type": "code",
      "metadata": {
        "id": "_KCJWiTRFGRV"
      },
      "source": [
        "#shows count of images \n",
        "#number_of_images.items()\n"
      ],
      "execution_count": null,
      "outputs": []
    },
    {
      "cell_type": "code",
      "metadata": {
        "id": "jrwFe2E5DFkk"
      },
      "source": [
        "dataFolder(\"val\", 0.15)"
      ],
      "execution_count": null,
      "outputs": []
    },
    {
      "cell_type": "code",
      "metadata": {
        "id": "uagNJoQxFH7U"
      },
      "source": [
        "#shows count of images \n",
        "#number_of_images.items()\n"
      ],
      "execution_count": null,
      "outputs": []
    },
    {
      "cell_type": "code",
      "metadata": {
        "id": "YtFT_NqxDdqj"
      },
      "source": [
        "dataFolder(\"test\", 0.15)"
      ],
      "execution_count": null,
      "outputs": []
    },
    {
      "cell_type": "code",
      "metadata": {
        "id": "sDvgrhAtFKXM"
      },
      "source": [
        "#shows count of images \n",
        "#number_of_images.items()\n"
      ],
      "execution_count": null,
      "outputs": []
    },
    {
      "cell_type": "markdown",
      "metadata": {
        "id": "DV2jFHAS9yTh"
      },
      "source": [
        "#Model Build"
      ]
    },
    {
      "cell_type": "code",
      "metadata": {
        "id": "6h1Vy8fE94vl"
      },
      "source": [
        "def build_model(input_shape):\n",
        "    # Define the input placeholder as a tensor with shape input_shape. \n",
        "    X_input = input(input_shape) # shape=(?, 240, 240, 3)\n",
        "    \n",
        "    # Zero-Padding: pads the border of X_input with zeroes\n",
        "    X = ZeroPadding2D((2, 2))(X_input) # shape=(?, 244, 244, 3)\n",
        "    \n",
        "    # CONV -> BN -> RELU Block applied to X\n",
        "    X = Conv2D(32, (7, 7), strides = (1, 1), name = 'conv0')(X)\n",
        "    X = BatchNormalization(axis = 3, name = 'bn0')(X)\n",
        "    X = Activation('relu')(X) # shape=(?, 238, 238, 32)\n",
        "    \n",
        "    # MAXPOOL\n",
        "    X = MaxPooling2D((4, 4), name='max_pool0')(X) # shape=(?, 59, 59, 32) \n",
        "    \n",
        "    # MAXPOOL\n",
        "    X = MaxPooling2D((4, 4), name='max_pool1')(X) # shape=(?, 14, 14, 32)\n",
        "    \n",
        "    # FLATTEN X \n",
        "    X = Flatten()(X) # shape=(?, 6272)\n",
        "    # FULLYCONNECTED\n",
        "    X = Dense(1, activation='sigmoid', name='fc')(X) # shape=(?, 1)\n",
        "    \n",
        "    # Create model. This creates your Keras model instance, you'll use this instance to train/test the model.\n",
        "    model = Model(inputs = X_input, outputs = X, name='BloodCancerModel')\n",
        "    \n",
        "    return model"
      ],
      "execution_count": null,
      "outputs": []
    },
    {
      "cell_type": "code",
      "metadata": {
        "id": "HymDqJ9sDAsW",
        "colab": {
          "base_uri": "https://localhost:8080/"
        },
        "outputId": "e1e522a3-4a09-40e0-9ccb-82990f515a06"
      },
      "source": [
        "from keras.preprocessing.image import ImageDataGenerator\n",
        "image_data= ImageDataGenerator(zoom_range=0.2, shear_range=0.2, rescale=1/255, horizontal_flip=True)\n",
        "image = image_data.flow_from_directory(directory='/content/Blood_Cancer_Detection', target_size= (224,224), batch_size=32, class_mode='binary')\n"
      ],
      "execution_count": null,
      "outputs": [
        {
          "output_type": "stream",
          "name": "stdout",
          "text": [
            "Found 41 images belonging to 2 classes.\n"
          ]
        }
      ]
    },
    {
      "cell_type": "code",
      "metadata": {
        "id": "qrHhPn9EUUi7"
      },
      "source": [
        "#ininitialize keras layers and import it \n",
        "from keras.models import Sequential\n",
        "from keras.layers import Dense , Activation\n",
        "from keras.layers import Dropout\n",
        "from keras.layers import Flatten\n",
        "from keras.constraints import maxnorm\n",
        "\n",
        "from keras.layers import Conv2D , BatchNormalization\n",
        "from keras.layers import MaxPooling2D\n",
        "from keras.utils import np_utils\n",
        "from keras import backend as K\n",
        "\n",
        "from sklearn.model_selection import GridSearchCV\n",
        "from keras.wrappers.scikit_learn import KerasClassifier"
      ],
      "execution_count": null,
      "outputs": []
    },
    {
      "cell_type": "code",
      "metadata": {
        "id": "K7sEfow--cPV",
        "colab": {
          "base_uri": "https://localhost:8080/"
        },
        "outputId": "73659de6-39db-4b0a-d7ac-808b88b289bb"
      },
      "source": [
        "#build the actual model\n",
        "model = Sequential()\n",
        "\n",
        "model.add(Conv2D(16, (3, 3), activation='relu', padding=\"same\", input_shape=(150,150,3)))\n",
        "model.add(Conv2D(16, (3, 3), padding=\"same\", activation='relu'))\n",
        "\n",
        "model.add(Conv2D(32, (3, 3), activation='relu', padding=\"same\"))\n",
        "model.add(Conv2D(32, (3, 3), padding=\"same\", activation='relu'))\n",
        "\n",
        "model.add(Conv2D(64, (3, 3), activation='relu', padding=\"same\"))\n",
        "model.add(Conv2D(64, (3, 3), padding=\"same\", activation='relu'))\n",
        "model.add(MaxPooling2D(pool_size=(2, 2)))\n",
        "\n",
        "\n",
        "model.add(Flatten())\n",
        "\n",
        "model.add(Dense(64, activation='relu'))\n",
        "model.add(Dropout(0.2))\n",
        "model.add(Dense(3 , activation='sigmoid'))\n",
        "\n",
        "\n",
        "\n",
        "print(model.summary())\n"
      ],
      "execution_count": null,
      "outputs": [
        {
          "output_type": "stream",
          "name": "stdout",
          "text": [
            "Model: \"sequential\"\n",
            "_________________________________________________________________\n",
            " Layer (type)                Output Shape              Param #   \n",
            "=================================================================\n",
            " conv2d (Conv2D)             (None, 150, 150, 16)      448       \n",
            "                                                                 \n",
            " conv2d_1 (Conv2D)           (None, 150, 150, 16)      2320      \n",
            "                                                                 \n",
            " conv2d_2 (Conv2D)           (None, 150, 150, 32)      4640      \n",
            "                                                                 \n",
            " conv2d_3 (Conv2D)           (None, 150, 150, 32)      9248      \n",
            "                                                                 \n",
            " conv2d_4 (Conv2D)           (None, 150, 150, 64)      18496     \n",
            "                                                                 \n",
            " conv2d_5 (Conv2D)           (None, 150, 150, 64)      36928     \n",
            "                                                                 \n",
            " max_pooling2d (MaxPooling2D  (None, 75, 75, 64)       0         \n",
            " )                                                               \n",
            "                                                                 \n",
            " flatten (Flatten)           (None, 360000)            0         \n",
            "                                                                 \n",
            " dense (Dense)               (None, 64)                23040064  \n",
            "                                                                 \n",
            " dropout (Dropout)           (None, 64)                0         \n",
            "                                                                 \n",
            " dense_1 (Dense)             (None, 3)                 195       \n",
            "                                                                 \n",
            "=================================================================\n",
            "Total params: 23,112,339\n",
            "Trainable params: 23,112,339\n",
            "Non-trainable params: 0\n",
            "_________________________________________________________________\n",
            "None\n"
          ]
        }
      ]
    },
    {
      "cell_type": "code",
      "metadata": {
        "id": "Lf85oHRJHww3"
      },
      "source": [
        "#import some other libraries\n",
        "import tensorflow as tf\n",
        "from tensorflow import keras\n",
        "from tensorflow.keras import layers"
      ],
      "execution_count": null,
      "outputs": []
    },
    {
      "cell_type": "code",
      "metadata": {
        "id": "kKyngwV2HxZS"
      },
      "source": [
        "inputs = keras.Input(shape=(784,), name=\"digits\")\n",
        "x = layers.Dense(64, activation=\"relu\", name=\"dense_1\")(inputs)\n",
        "x = layers.Dense(64, activation=\"relu\", name=\"dense_2\")(x)\n",
        "outputs = layers.Dense(10, activation=\"softmax\", name=\"predictions\")(x)\n",
        "\n",
        "model = keras.Model(inputs=inputs, outputs=outputs)"
      ],
      "execution_count": null,
      "outputs": []
    },
    {
      "cell_type": "code",
      "metadata": {
        "id": "ftrKPWwcLyEg",
        "colab": {
          "base_uri": "https://localhost:8080/"
        },
        "outputId": "2b2226af-653c-425a-d749-7274948ad86d"
      },
      "source": [
        "(x_train, y_train), (x_test, y_test) = keras.datasets.mnist.load_data()\n",
        "\n",
        "# Preprocess the data (these are NumPy arrays)\n",
        "x_train = x_train.reshape(60000, 784).astype(\"float32\") / 255\n",
        "x_test = x_test.reshape(10000, 784).astype(\"float32\") / 255\n",
        "\n",
        "y_train = y_train.astype(\"float32\")\n",
        "y_test = y_test.astype(\"float32\")\n",
        "\n",
        "# Reserve 10,000 samples for validation\n",
        "x_val = x_train[-10000:]\n",
        "y_val = y_train[-10000:]\n",
        "x_train = x_train[:-10000]\n",
        "y_train = y_train[:-10000]"
      ],
      "execution_count": null,
      "outputs": [
        {
          "output_type": "stream",
          "name": "stdout",
          "text": [
            "Downloading data from https://storage.googleapis.com/tensorflow/tf-keras-datasets/mnist.npz\n",
            "11493376/11490434 [==============================] - 0s 0us/step\n",
            "11501568/11490434 [==============================] - 0s 0us/step\n"
          ]
        }
      ]
    },
    {
      "cell_type": "code",
      "metadata": {
        "id": "Jy9DYl8NL2Xc"
      },
      "source": [
        "model.compile(\n",
        "    optimizer=keras.optimizers.RMSprop(),  # Optimizer\n",
        "    # Loss function to minimize\n",
        "    loss=keras.losses.SparseCategoricalCrossentropy(),\n",
        "    # List of metrics to monitor\n",
        "    metrics=[keras.metrics.SparseCategoricalAccuracy()],\n",
        ")"
      ],
      "execution_count": null,
      "outputs": []
    },
    {
      "cell_type": "code",
      "metadata": {
        "id": "Z6gaGycbL5CB",
        "colab": {
          "base_uri": "https://localhost:8080/"
        },
        "outputId": "fd9640fa-1d37-4eaf-f1f3-dd78d2ce4ccc"
      },
      "source": [
        "print(\"Fit model on training data\")\n",
        "history = model.fit(\n",
        "    x_train,\n",
        "    y_train,\n",
        "    batch_size=64,\n",
        "    epochs=10,\n",
        "    # We pass some validation for\n",
        "    # monitoring validation loss and metrics\n",
        "    # at the end of each epoch\n",
        "    validation_data=(x_val, y_val),\n",
        ")"
      ],
      "execution_count": null,
      "outputs": [
        {
          "output_type": "stream",
          "name": "stdout",
          "text": [
            "Fit model on training data\n",
            "Epoch 1/10\n",
            "782/782 [==============================] - 3s 3ms/step - loss: 0.3303 - sparse_categorical_accuracy: 0.9068 - val_loss: 0.1750 - val_sparse_categorical_accuracy: 0.9496\n",
            "Epoch 2/10\n",
            "782/782 [==============================] - 2s 3ms/step - loss: 0.1522 - sparse_categorical_accuracy: 0.9549 - val_loss: 0.1322 - val_sparse_categorical_accuracy: 0.9628\n",
            "Epoch 3/10\n",
            "782/782 [==============================] - 2s 3ms/step - loss: 0.1128 - sparse_categorical_accuracy: 0.9660 - val_loss: 0.1211 - val_sparse_categorical_accuracy: 0.9659\n",
            "Epoch 4/10\n",
            "782/782 [==============================] - 2s 3ms/step - loss: 0.0910 - sparse_categorical_accuracy: 0.9722 - val_loss: 0.1106 - val_sparse_categorical_accuracy: 0.9656\n",
            "Epoch 5/10\n",
            "782/782 [==============================] - 2s 3ms/step - loss: 0.0760 - sparse_categorical_accuracy: 0.9775 - val_loss: 0.1092 - val_sparse_categorical_accuracy: 0.9699\n",
            "Epoch 6/10\n",
            "782/782 [==============================] - 2s 3ms/step - loss: 0.0652 - sparse_categorical_accuracy: 0.9796 - val_loss: 0.0979 - val_sparse_categorical_accuracy: 0.9730\n",
            "Epoch 7/10\n",
            "782/782 [==============================] - 2s 3ms/step - loss: 0.0561 - sparse_categorical_accuracy: 0.9832 - val_loss: 0.1025 - val_sparse_categorical_accuracy: 0.9740\n",
            "Epoch 8/10\n",
            "782/782 [==============================] - 2s 3ms/step - loss: 0.0491 - sparse_categorical_accuracy: 0.9854 - val_loss: 0.1099 - val_sparse_categorical_accuracy: 0.9712\n",
            "Epoch 9/10\n",
            "782/782 [==============================] - 2s 3ms/step - loss: 0.0431 - sparse_categorical_accuracy: 0.9867 - val_loss: 0.1001 - val_sparse_categorical_accuracy: 0.9743\n",
            "Epoch 10/10\n",
            "782/782 [==============================] - 2s 3ms/step - loss: 0.0368 - sparse_categorical_accuracy: 0.9889 - val_loss: 0.1076 - val_sparse_categorical_accuracy: 0.9752\n"
          ]
        }
      ]
    },
    {
      "cell_type": "code",
      "metadata": {
        "id": "JlQJhZbAW1Pk",
        "colab": {
          "base_uri": "https://localhost:8080/"
        },
        "outputId": "fa2c04e8-81dc-4d67-c25b-504929f2763c"
      },
      "source": [
        "history.history"
      ],
      "execution_count": null,
      "outputs": [
        {
          "output_type": "execute_result",
          "data": {
            "text/plain": [
              "{'loss': [0.3302669823169708,\n",
              "  0.15216219425201416,\n",
              "  0.11284381151199341,\n",
              "  0.09095916897058487,\n",
              "  0.0759967640042305,\n",
              "  0.06523463129997253,\n",
              "  0.056149858981370926,\n",
              "  0.04912382364273071,\n",
              "  0.0430774949491024,\n",
              "  0.03680863231420517],\n",
              " 'sparse_categorical_accuracy': [0.9067599773406982,\n",
              "  0.9548799991607666,\n",
              "  0.9659799933433533,\n",
              "  0.9722399711608887,\n",
              "  0.9775400161743164,\n",
              "  0.9796000123023987,\n",
              "  0.9832199811935425,\n",
              "  0.9854199886322021,\n",
              "  0.9866600036621094,\n",
              "  0.9889400005340576],\n",
              " 'val_loss': [0.17500828206539154,\n",
              "  0.1322190910577774,\n",
              "  0.12113574147224426,\n",
              "  0.11059615761041641,\n",
              "  0.10921148955821991,\n",
              "  0.09793812036514282,\n",
              "  0.10254330188035965,\n",
              "  0.10985834896564484,\n",
              "  0.10008322447538376,\n",
              "  0.10760543495416641],\n",
              " 'val_sparse_categorical_accuracy': [0.9495999813079834,\n",
              "  0.9628000259399414,\n",
              "  0.9659000039100647,\n",
              "  0.9656000137329102,\n",
              "  0.9699000120162964,\n",
              "  0.9729999899864197,\n",
              "  0.9739999771118164,\n",
              "  0.9711999893188477,\n",
              "  0.9743000268936157,\n",
              "  0.9751999974250793]}"
            ]
          },
          "metadata": {},
          "execution_count": 24
        }
      ]
    },
    {
      "cell_type": "code",
      "metadata": {
        "id": "XKv2ZOOMOsoY"
      },
      "source": [
        "%matplotlib inline\n",
        "%config InlineBackend.figure_format = 'svg'\n",
        "def plot_metric(history, metric):\n",
        "    train_metrics = history.history[metric]\n",
        "    val_metrics = history.history['val_'+metric]\n",
        "    epochs = range(1, len(train_metrics) + 1)\n",
        "    plt.plot(epochs, train_metrics, 'bo--')\n",
        "    plt.plot(epochs, val_metrics, 'ro-')\n",
        "    plt.title('Training and validation '+ metric)\n",
        "    plt.xlabel(\"Epochs\")\n",
        "    plt.ylabel(metric)\n",
        "    plt.legend([\"train_\"+metric, 'val_'+metric])\n",
        "    plt.show()"
      ],
      "execution_count": null,
      "outputs": []
    },
    {
      "cell_type": "code",
      "metadata": {
        "id": "vVAk7712O0Zk",
        "colab": {
          "base_uri": "https://localhost:8080/",
          "height": 392
        },
        "outputId": "fc08f5d4-1247-4a27-e82a-dece0794498a"
      },
      "source": [
        "plot_metric(history, 'loss')"
      ],
      "execution_count": null,
      "outputs": [
        {
          "output_type": "display_data",
          "data": {
            "text/plain": [
              "<Figure size 432x288 with 1 Axes>"
            ],
            "image/svg+xml": "<?xml version=\"1.0\" encoding=\"utf-8\" standalone=\"no\"?>\n<!DOCTYPE svg PUBLIC \"-//W3C//DTD SVG 1.1//EN\"\n  \"http://www.w3.org/Graphics/SVG/1.1/DTD/svg11.dtd\">\n<!-- Created with matplotlib (https://matplotlib.org/) -->\n<svg height=\"277.314375pt\" version=\"1.1\" viewBox=\"0 0 392.14375 277.314375\" width=\"392.14375pt\" xmlns=\"http://www.w3.org/2000/svg\" xmlns:xlink=\"http://www.w3.org/1999/xlink\">\n <defs>\n  <style type=\"text/css\">\n*{stroke-linecap:butt;stroke-linejoin:round;}\n  </style>\n </defs>\n <g id=\"figure_1\">\n  <g id=\"patch_1\">\n   <path d=\"M 0 277.314375 \nL 392.14375 277.314375 \nL 392.14375 0 \nL 0 0 \nz\n\" style=\"fill:none;\"/>\n  </g>\n  <g id=\"axes_1\">\n   <g id=\"patch_2\">\n    <path d=\"M 50.14375 239.758125 \nL 384.94375 239.758125 \nL 384.94375 22.318125 \nL 50.14375 22.318125 \nz\n\" style=\"fill:#ffffff;\"/>\n   </g>\n   <g id=\"matplotlib.axis_1\">\n    <g id=\"xtick_1\">\n     <g id=\"line2d_1\">\n      <defs>\n       <path d=\"M 0 0 \nL 0 3.5 \n\" id=\"mdedca4a5b5\" style=\"stroke:#000000;stroke-width:0.8;\"/>\n      </defs>\n      <g>\n       <use style=\"stroke:#000000;stroke-width:0.8;\" x=\"99.180114\" xlink:href=\"#mdedca4a5b5\" y=\"239.758125\"/>\n      </g>\n     </g>\n     <g id=\"text_1\">\n      <!-- 2 -->\n      <defs>\n       <path d=\"M 19.1875 8.296875 \nL 53.609375 8.296875 \nL 53.609375 0 \nL 7.328125 0 \nL 7.328125 8.296875 \nQ 12.9375 14.109375 22.625 23.890625 \nQ 32.328125 33.6875 34.8125 36.53125 \nQ 39.546875 41.84375 41.421875 45.53125 \nQ 43.3125 49.21875 43.3125 52.78125 \nQ 43.3125 58.59375 39.234375 62.25 \nQ 35.15625 65.921875 28.609375 65.921875 \nQ 23.96875 65.921875 18.8125 64.3125 \nQ 13.671875 62.703125 7.8125 59.421875 \nL 7.8125 69.390625 \nQ 13.765625 71.78125 18.9375 73 \nQ 24.125 74.21875 28.421875 74.21875 \nQ 39.75 74.21875 46.484375 68.546875 \nQ 53.21875 62.890625 53.21875 53.421875 \nQ 53.21875 48.921875 51.53125 44.890625 \nQ 49.859375 40.875 45.40625 35.40625 \nQ 44.1875 33.984375 37.640625 27.21875 \nQ 31.109375 20.453125 19.1875 8.296875 \nz\n\" id=\"DejaVuSans-50\"/>\n      </defs>\n      <g transform=\"translate(95.998864 254.356562)scale(0.1 -0.1)\">\n       <use xlink:href=\"#DejaVuSans-50\"/>\n      </g>\n     </g>\n    </g>\n    <g id=\"xtick_2\">\n     <g id=\"line2d_2\">\n      <g>\n       <use style=\"stroke:#000000;stroke-width:0.8;\" x=\"166.816477\" xlink:href=\"#mdedca4a5b5\" y=\"239.758125\"/>\n      </g>\n     </g>\n     <g id=\"text_2\">\n      <!-- 4 -->\n      <defs>\n       <path d=\"M 37.796875 64.3125 \nL 12.890625 25.390625 \nL 37.796875 25.390625 \nz\nM 35.203125 72.90625 \nL 47.609375 72.90625 \nL 47.609375 25.390625 \nL 58.015625 25.390625 \nL 58.015625 17.1875 \nL 47.609375 17.1875 \nL 47.609375 0 \nL 37.796875 0 \nL 37.796875 17.1875 \nL 4.890625 17.1875 \nL 4.890625 26.703125 \nz\n\" id=\"DejaVuSans-52\"/>\n      </defs>\n      <g transform=\"translate(163.635227 254.356562)scale(0.1 -0.1)\">\n       <use xlink:href=\"#DejaVuSans-52\"/>\n      </g>\n     </g>\n    </g>\n    <g id=\"xtick_3\">\n     <g id=\"line2d_3\">\n      <g>\n       <use style=\"stroke:#000000;stroke-width:0.8;\" x=\"234.452841\" xlink:href=\"#mdedca4a5b5\" y=\"239.758125\"/>\n      </g>\n     </g>\n     <g id=\"text_3\">\n      <!-- 6 -->\n      <defs>\n       <path d=\"M 33.015625 40.375 \nQ 26.375 40.375 22.484375 35.828125 \nQ 18.609375 31.296875 18.609375 23.390625 \nQ 18.609375 15.53125 22.484375 10.953125 \nQ 26.375 6.390625 33.015625 6.390625 \nQ 39.65625 6.390625 43.53125 10.953125 \nQ 47.40625 15.53125 47.40625 23.390625 \nQ 47.40625 31.296875 43.53125 35.828125 \nQ 39.65625 40.375 33.015625 40.375 \nz\nM 52.59375 71.296875 \nL 52.59375 62.3125 \nQ 48.875 64.0625 45.09375 64.984375 \nQ 41.3125 65.921875 37.59375 65.921875 \nQ 27.828125 65.921875 22.671875 59.328125 \nQ 17.53125 52.734375 16.796875 39.40625 \nQ 19.671875 43.65625 24.015625 45.921875 \nQ 28.375 48.1875 33.59375 48.1875 \nQ 44.578125 48.1875 50.953125 41.515625 \nQ 57.328125 34.859375 57.328125 23.390625 \nQ 57.328125 12.15625 50.6875 5.359375 \nQ 44.046875 -1.421875 33.015625 -1.421875 \nQ 20.359375 -1.421875 13.671875 8.265625 \nQ 6.984375 17.96875 6.984375 36.375 \nQ 6.984375 53.65625 15.1875 63.9375 \nQ 23.390625 74.21875 37.203125 74.21875 \nQ 40.921875 74.21875 44.703125 73.484375 \nQ 48.484375 72.75 52.59375 71.296875 \nz\n\" id=\"DejaVuSans-54\"/>\n      </defs>\n      <g transform=\"translate(231.271591 254.356562)scale(0.1 -0.1)\">\n       <use xlink:href=\"#DejaVuSans-54\"/>\n      </g>\n     </g>\n    </g>\n    <g id=\"xtick_4\">\n     <g id=\"line2d_4\">\n      <g>\n       <use style=\"stroke:#000000;stroke-width:0.8;\" x=\"302.089205\" xlink:href=\"#mdedca4a5b5\" y=\"239.758125\"/>\n      </g>\n     </g>\n     <g id=\"text_4\">\n      <!-- 8 -->\n      <defs>\n       <path d=\"M 31.78125 34.625 \nQ 24.75 34.625 20.71875 30.859375 \nQ 16.703125 27.09375 16.703125 20.515625 \nQ 16.703125 13.921875 20.71875 10.15625 \nQ 24.75 6.390625 31.78125 6.390625 \nQ 38.8125 6.390625 42.859375 10.171875 \nQ 46.921875 13.96875 46.921875 20.515625 \nQ 46.921875 27.09375 42.890625 30.859375 \nQ 38.875 34.625 31.78125 34.625 \nz\nM 21.921875 38.8125 \nQ 15.578125 40.375 12.03125 44.71875 \nQ 8.5 49.078125 8.5 55.328125 \nQ 8.5 64.0625 14.71875 69.140625 \nQ 20.953125 74.21875 31.78125 74.21875 \nQ 42.671875 74.21875 48.875 69.140625 \nQ 55.078125 64.0625 55.078125 55.328125 \nQ 55.078125 49.078125 51.53125 44.71875 \nQ 48 40.375 41.703125 38.8125 \nQ 48.828125 37.15625 52.796875 32.3125 \nQ 56.78125 27.484375 56.78125 20.515625 \nQ 56.78125 9.90625 50.3125 4.234375 \nQ 43.84375 -1.421875 31.78125 -1.421875 \nQ 19.734375 -1.421875 13.25 4.234375 \nQ 6.78125 9.90625 6.78125 20.515625 \nQ 6.78125 27.484375 10.78125 32.3125 \nQ 14.796875 37.15625 21.921875 38.8125 \nz\nM 18.3125 54.390625 \nQ 18.3125 48.734375 21.84375 45.5625 \nQ 25.390625 42.390625 31.78125 42.390625 \nQ 38.140625 42.390625 41.71875 45.5625 \nQ 45.3125 48.734375 45.3125 54.390625 \nQ 45.3125 60.0625 41.71875 63.234375 \nQ 38.140625 66.40625 31.78125 66.40625 \nQ 25.390625 66.40625 21.84375 63.234375 \nQ 18.3125 60.0625 18.3125 54.390625 \nz\n\" id=\"DejaVuSans-56\"/>\n      </defs>\n      <g transform=\"translate(298.907955 254.356562)scale(0.1 -0.1)\">\n       <use xlink:href=\"#DejaVuSans-56\"/>\n      </g>\n     </g>\n    </g>\n    <g id=\"xtick_5\">\n     <g id=\"line2d_5\">\n      <g>\n       <use style=\"stroke:#000000;stroke-width:0.8;\" x=\"369.725568\" xlink:href=\"#mdedca4a5b5\" y=\"239.758125\"/>\n      </g>\n     </g>\n     <g id=\"text_5\">\n      <!-- 10 -->\n      <defs>\n       <path d=\"M 12.40625 8.296875 \nL 28.515625 8.296875 \nL 28.515625 63.921875 \nL 10.984375 60.40625 \nL 10.984375 69.390625 \nL 28.421875 72.90625 \nL 38.28125 72.90625 \nL 38.28125 8.296875 \nL 54.390625 8.296875 \nL 54.390625 0 \nL 12.40625 0 \nz\n\" id=\"DejaVuSans-49\"/>\n       <path d=\"M 31.78125 66.40625 \nQ 24.171875 66.40625 20.328125 58.90625 \nQ 16.5 51.421875 16.5 36.375 \nQ 16.5 21.390625 20.328125 13.890625 \nQ 24.171875 6.390625 31.78125 6.390625 \nQ 39.453125 6.390625 43.28125 13.890625 \nQ 47.125 21.390625 47.125 36.375 \nQ 47.125 51.421875 43.28125 58.90625 \nQ 39.453125 66.40625 31.78125 66.40625 \nz\nM 31.78125 74.21875 \nQ 44.046875 74.21875 50.515625 64.515625 \nQ 56.984375 54.828125 56.984375 36.375 \nQ 56.984375 17.96875 50.515625 8.265625 \nQ 44.046875 -1.421875 31.78125 -1.421875 \nQ 19.53125 -1.421875 13.0625 8.265625 \nQ 6.59375 17.96875 6.59375 36.375 \nQ 6.59375 54.828125 13.0625 64.515625 \nQ 19.53125 74.21875 31.78125 74.21875 \nz\n\" id=\"DejaVuSans-48\"/>\n      </defs>\n      <g transform=\"translate(363.363068 254.356562)scale(0.1 -0.1)\">\n       <use xlink:href=\"#DejaVuSans-49\"/>\n       <use x=\"63.623047\" xlink:href=\"#DejaVuSans-48\"/>\n      </g>\n     </g>\n    </g>\n    <g id=\"text_6\">\n     <!-- Epochs -->\n     <defs>\n      <path d=\"M 9.8125 72.90625 \nL 55.90625 72.90625 \nL 55.90625 64.59375 \nL 19.671875 64.59375 \nL 19.671875 43.015625 \nL 54.390625 43.015625 \nL 54.390625 34.71875 \nL 19.671875 34.71875 \nL 19.671875 8.296875 \nL 56.78125 8.296875 \nL 56.78125 0 \nL 9.8125 0 \nz\n\" id=\"DejaVuSans-69\"/>\n      <path d=\"M 18.109375 8.203125 \nL 18.109375 -20.796875 \nL 9.078125 -20.796875 \nL 9.078125 54.6875 \nL 18.109375 54.6875 \nL 18.109375 46.390625 \nQ 20.953125 51.265625 25.265625 53.625 \nQ 29.59375 56 35.59375 56 \nQ 45.5625 56 51.78125 48.09375 \nQ 58.015625 40.1875 58.015625 27.296875 \nQ 58.015625 14.40625 51.78125 6.484375 \nQ 45.5625 -1.421875 35.59375 -1.421875 \nQ 29.59375 -1.421875 25.265625 0.953125 \nQ 20.953125 3.328125 18.109375 8.203125 \nz\nM 48.6875 27.296875 \nQ 48.6875 37.203125 44.609375 42.84375 \nQ 40.53125 48.484375 33.40625 48.484375 \nQ 26.265625 48.484375 22.1875 42.84375 \nQ 18.109375 37.203125 18.109375 27.296875 \nQ 18.109375 17.390625 22.1875 11.75 \nQ 26.265625 6.109375 33.40625 6.109375 \nQ 40.53125 6.109375 44.609375 11.75 \nQ 48.6875 17.390625 48.6875 27.296875 \nz\n\" id=\"DejaVuSans-112\"/>\n      <path d=\"M 30.609375 48.390625 \nQ 23.390625 48.390625 19.1875 42.75 \nQ 14.984375 37.109375 14.984375 27.296875 \nQ 14.984375 17.484375 19.15625 11.84375 \nQ 23.34375 6.203125 30.609375 6.203125 \nQ 37.796875 6.203125 41.984375 11.859375 \nQ 46.1875 17.53125 46.1875 27.296875 \nQ 46.1875 37.015625 41.984375 42.703125 \nQ 37.796875 48.390625 30.609375 48.390625 \nz\nM 30.609375 56 \nQ 42.328125 56 49.015625 48.375 \nQ 55.71875 40.765625 55.71875 27.296875 \nQ 55.71875 13.875 49.015625 6.21875 \nQ 42.328125 -1.421875 30.609375 -1.421875 \nQ 18.84375 -1.421875 12.171875 6.21875 \nQ 5.515625 13.875 5.515625 27.296875 \nQ 5.515625 40.765625 12.171875 48.375 \nQ 18.84375 56 30.609375 56 \nz\n\" id=\"DejaVuSans-111\"/>\n      <path d=\"M 48.78125 52.59375 \nL 48.78125 44.1875 \nQ 44.96875 46.296875 41.140625 47.34375 \nQ 37.3125 48.390625 33.40625 48.390625 \nQ 24.65625 48.390625 19.8125 42.84375 \nQ 14.984375 37.3125 14.984375 27.296875 \nQ 14.984375 17.28125 19.8125 11.734375 \nQ 24.65625 6.203125 33.40625 6.203125 \nQ 37.3125 6.203125 41.140625 7.25 \nQ 44.96875 8.296875 48.78125 10.40625 \nL 48.78125 2.09375 \nQ 45.015625 0.34375 40.984375 -0.53125 \nQ 36.96875 -1.421875 32.421875 -1.421875 \nQ 20.0625 -1.421875 12.78125 6.34375 \nQ 5.515625 14.109375 5.515625 27.296875 \nQ 5.515625 40.671875 12.859375 48.328125 \nQ 20.21875 56 33.015625 56 \nQ 37.15625 56 41.109375 55.140625 \nQ 45.0625 54.296875 48.78125 52.59375 \nz\n\" id=\"DejaVuSans-99\"/>\n      <path d=\"M 54.890625 33.015625 \nL 54.890625 0 \nL 45.90625 0 \nL 45.90625 32.71875 \nQ 45.90625 40.484375 42.875 44.328125 \nQ 39.84375 48.1875 33.796875 48.1875 \nQ 26.515625 48.1875 22.3125 43.546875 \nQ 18.109375 38.921875 18.109375 30.90625 \nL 18.109375 0 \nL 9.078125 0 \nL 9.078125 75.984375 \nL 18.109375 75.984375 \nL 18.109375 46.1875 \nQ 21.34375 51.125 25.703125 53.5625 \nQ 30.078125 56 35.796875 56 \nQ 45.21875 56 50.046875 50.171875 \nQ 54.890625 44.34375 54.890625 33.015625 \nz\n\" id=\"DejaVuSans-104\"/>\n      <path d=\"M 44.28125 53.078125 \nL 44.28125 44.578125 \nQ 40.484375 46.53125 36.375 47.5 \nQ 32.28125 48.484375 27.875 48.484375 \nQ 21.1875 48.484375 17.84375 46.4375 \nQ 14.5 44.390625 14.5 40.28125 \nQ 14.5 37.15625 16.890625 35.375 \nQ 19.28125 33.59375 26.515625 31.984375 \nL 29.59375 31.296875 \nQ 39.15625 29.25 43.1875 25.515625 \nQ 47.21875 21.78125 47.21875 15.09375 \nQ 47.21875 7.46875 41.1875 3.015625 \nQ 35.15625 -1.421875 24.609375 -1.421875 \nQ 20.21875 -1.421875 15.453125 -0.5625 \nQ 10.6875 0.296875 5.421875 2 \nL 5.421875 11.28125 \nQ 10.40625 8.6875 15.234375 7.390625 \nQ 20.0625 6.109375 24.8125 6.109375 \nQ 31.15625 6.109375 34.5625 8.28125 \nQ 37.984375 10.453125 37.984375 14.40625 \nQ 37.984375 18.0625 35.515625 20.015625 \nQ 33.0625 21.96875 24.703125 23.78125 \nL 21.578125 24.515625 \nQ 13.234375 26.265625 9.515625 29.90625 \nQ 5.8125 33.546875 5.8125 39.890625 \nQ 5.8125 47.609375 11.28125 51.796875 \nQ 16.75 56 26.8125 56 \nQ 31.78125 56 36.171875 55.265625 \nQ 40.578125 54.546875 44.28125 53.078125 \nz\n\" id=\"DejaVuSans-115\"/>\n     </defs>\n     <g transform=\"translate(199.628125 268.034687)scale(0.1 -0.1)\">\n      <use xlink:href=\"#DejaVuSans-69\"/>\n      <use x=\"63.183594\" xlink:href=\"#DejaVuSans-112\"/>\n      <use x=\"126.660156\" xlink:href=\"#DejaVuSans-111\"/>\n      <use x=\"187.841797\" xlink:href=\"#DejaVuSans-99\"/>\n      <use x=\"242.822266\" xlink:href=\"#DejaVuSans-104\"/>\n      <use x=\"306.201172\" xlink:href=\"#DejaVuSans-115\"/>\n     </g>\n    </g>\n   </g>\n   <g id=\"matplotlib.axis_2\">\n    <g id=\"ytick_1\">\n     <g id=\"line2d_6\">\n      <defs>\n       <path d=\"M 0 0 \nL -3.5 0 \n\" id=\"m14d007bb46\" style=\"stroke:#000000;stroke-width:0.8;\"/>\n      </defs>\n      <g>\n       <use style=\"stroke:#000000;stroke-width:0.8;\" x=\"50.14375\" xlink:href=\"#m14d007bb46\" y=\"220.98882\"/>\n      </g>\n     </g>\n     <g id=\"text_7\">\n      <!-- 0.05 -->\n      <defs>\n       <path d=\"M 10.6875 12.40625 \nL 21 12.40625 \nL 21 0 \nL 10.6875 0 \nz\n\" id=\"DejaVuSans-46\"/>\n       <path d=\"M 10.796875 72.90625 \nL 49.515625 72.90625 \nL 49.515625 64.59375 \nL 19.828125 64.59375 \nL 19.828125 46.734375 \nQ 21.96875 47.46875 24.109375 47.828125 \nQ 26.265625 48.1875 28.421875 48.1875 \nQ 40.625 48.1875 47.75 41.5 \nQ 54.890625 34.8125 54.890625 23.390625 \nQ 54.890625 11.625 47.5625 5.09375 \nQ 40.234375 -1.421875 26.90625 -1.421875 \nQ 22.3125 -1.421875 17.546875 -0.640625 \nQ 12.796875 0.140625 7.71875 1.703125 \nL 7.71875 11.625 \nQ 12.109375 9.234375 16.796875 8.0625 \nQ 21.484375 6.890625 26.703125 6.890625 \nQ 35.15625 6.890625 40.078125 11.328125 \nQ 45.015625 15.765625 45.015625 23.390625 \nQ 45.015625 31 40.078125 35.4375 \nQ 35.15625 39.890625 26.703125 39.890625 \nQ 22.75 39.890625 18.8125 39.015625 \nQ 14.890625 38.140625 10.796875 36.28125 \nz\n\" id=\"DejaVuSans-53\"/>\n      </defs>\n      <g transform=\"translate(20.878125 224.788039)scale(0.1 -0.1)\">\n       <use xlink:href=\"#DejaVuSans-48\"/>\n       <use x=\"63.623047\" xlink:href=\"#DejaVuSans-46\"/>\n       <use x=\"95.410156\" xlink:href=\"#DejaVuSans-48\"/>\n       <use x=\"159.033203\" xlink:href=\"#DejaVuSans-53\"/>\n      </g>\n     </g>\n    </g>\n    <g id=\"ytick_2\">\n     <g id=\"line2d_7\">\n      <g>\n       <use style=\"stroke:#000000;stroke-width:0.8;\" x=\"50.14375\" xlink:href=\"#m14d007bb46\" y=\"187.308959\"/>\n      </g>\n     </g>\n     <g id=\"text_8\">\n      <!-- 0.10 -->\n      <g transform=\"translate(20.878125 191.108178)scale(0.1 -0.1)\">\n       <use xlink:href=\"#DejaVuSans-48\"/>\n       <use x=\"63.623047\" xlink:href=\"#DejaVuSans-46\"/>\n       <use x=\"95.410156\" xlink:href=\"#DejaVuSans-49\"/>\n       <use x=\"159.033203\" xlink:href=\"#DejaVuSans-48\"/>\n      </g>\n     </g>\n    </g>\n    <g id=\"ytick_3\">\n     <g id=\"line2d_8\">\n      <g>\n       <use style=\"stroke:#000000;stroke-width:0.8;\" x=\"50.14375\" xlink:href=\"#m14d007bb46\" y=\"153.629099\"/>\n      </g>\n     </g>\n     <g id=\"text_9\">\n      <!-- 0.15 -->\n      <g transform=\"translate(20.878125 157.428317)scale(0.1 -0.1)\">\n       <use xlink:href=\"#DejaVuSans-48\"/>\n       <use x=\"63.623047\" xlink:href=\"#DejaVuSans-46\"/>\n       <use x=\"95.410156\" xlink:href=\"#DejaVuSans-49\"/>\n       <use x=\"159.033203\" xlink:href=\"#DejaVuSans-53\"/>\n      </g>\n     </g>\n    </g>\n    <g id=\"ytick_4\">\n     <g id=\"line2d_9\">\n      <g>\n       <use style=\"stroke:#000000;stroke-width:0.8;\" x=\"50.14375\" xlink:href=\"#m14d007bb46\" y=\"119.949238\"/>\n      </g>\n     </g>\n     <g id=\"text_10\">\n      <!-- 0.20 -->\n      <g transform=\"translate(20.878125 123.748457)scale(0.1 -0.1)\">\n       <use xlink:href=\"#DejaVuSans-48\"/>\n       <use x=\"63.623047\" xlink:href=\"#DejaVuSans-46\"/>\n       <use x=\"95.410156\" xlink:href=\"#DejaVuSans-50\"/>\n       <use x=\"159.033203\" xlink:href=\"#DejaVuSans-48\"/>\n      </g>\n     </g>\n    </g>\n    <g id=\"ytick_5\">\n     <g id=\"line2d_10\">\n      <g>\n       <use style=\"stroke:#000000;stroke-width:0.8;\" x=\"50.14375\" xlink:href=\"#m14d007bb46\" y=\"86.269377\"/>\n      </g>\n     </g>\n     <g id=\"text_11\">\n      <!-- 0.25 -->\n      <g transform=\"translate(20.878125 90.068596)scale(0.1 -0.1)\">\n       <use xlink:href=\"#DejaVuSans-48\"/>\n       <use x=\"63.623047\" xlink:href=\"#DejaVuSans-46\"/>\n       <use x=\"95.410156\" xlink:href=\"#DejaVuSans-50\"/>\n       <use x=\"159.033203\" xlink:href=\"#DejaVuSans-53\"/>\n      </g>\n     </g>\n    </g>\n    <g id=\"ytick_6\">\n     <g id=\"line2d_11\">\n      <g>\n       <use style=\"stroke:#000000;stroke-width:0.8;\" x=\"50.14375\" xlink:href=\"#m14d007bb46\" y=\"52.589516\"/>\n      </g>\n     </g>\n     <g id=\"text_12\">\n      <!-- 0.30 -->\n      <defs>\n       <path d=\"M 40.578125 39.3125 \nQ 47.65625 37.796875 51.625 33 \nQ 55.609375 28.21875 55.609375 21.1875 \nQ 55.609375 10.40625 48.1875 4.484375 \nQ 40.765625 -1.421875 27.09375 -1.421875 \nQ 22.515625 -1.421875 17.65625 -0.515625 \nQ 12.796875 0.390625 7.625 2.203125 \nL 7.625 11.71875 \nQ 11.71875 9.328125 16.59375 8.109375 \nQ 21.484375 6.890625 26.8125 6.890625 \nQ 36.078125 6.890625 40.9375 10.546875 \nQ 45.796875 14.203125 45.796875 21.1875 \nQ 45.796875 27.640625 41.28125 31.265625 \nQ 36.765625 34.90625 28.71875 34.90625 \nL 20.21875 34.90625 \nL 20.21875 43.015625 \nL 29.109375 43.015625 \nQ 36.375 43.015625 40.234375 45.921875 \nQ 44.09375 48.828125 44.09375 54.296875 \nQ 44.09375 59.90625 40.109375 62.90625 \nQ 36.140625 65.921875 28.71875 65.921875 \nQ 24.65625 65.921875 20.015625 65.03125 \nQ 15.375 64.15625 9.8125 62.3125 \nL 9.8125 71.09375 \nQ 15.4375 72.65625 20.34375 73.4375 \nQ 25.25 74.21875 29.59375 74.21875 \nQ 40.828125 74.21875 47.359375 69.109375 \nQ 53.90625 64.015625 53.90625 55.328125 \nQ 53.90625 49.265625 50.4375 45.09375 \nQ 46.96875 40.921875 40.578125 39.3125 \nz\n\" id=\"DejaVuSans-51\"/>\n      </defs>\n      <g transform=\"translate(20.878125 56.388735)scale(0.1 -0.1)\">\n       <use xlink:href=\"#DejaVuSans-48\"/>\n       <use x=\"63.623047\" xlink:href=\"#DejaVuSans-46\"/>\n       <use x=\"95.410156\" xlink:href=\"#DejaVuSans-51\"/>\n       <use x=\"159.033203\" xlink:href=\"#DejaVuSans-48\"/>\n      </g>\n     </g>\n    </g>\n    <g id=\"text_13\">\n     <!-- loss -->\n     <defs>\n      <path d=\"M 9.421875 75.984375 \nL 18.40625 75.984375 \nL 18.40625 0 \nL 9.421875 0 \nz\n\" id=\"DejaVuSans-108\"/>\n     </defs>\n     <g transform=\"translate(14.798438 140.695937)rotate(-90)scale(0.1 -0.1)\">\n      <use xlink:href=\"#DejaVuSans-108\"/>\n      <use x=\"27.783203\" xlink:href=\"#DejaVuSans-111\"/>\n      <use x=\"88.964844\" xlink:href=\"#DejaVuSans-115\"/>\n      <use x=\"141.064453\" xlink:href=\"#DejaVuSans-115\"/>\n     </g>\n    </g>\n   </g>\n   <g id=\"line2d_12\">\n    <path clip-path=\"url(#pdf943ce3b1)\" d=\"M 65.361932 32.201761 \nL 99.180114 152.172651 \nL 132.998295 178.657404 \nL 166.816477 193.398838 \nL 200.634659 203.477472 \nL 234.452841 210.726815 \nL 268.271023 216.846292 \nL 302.089205 221.57901 \nL 335.907386 225.6518 \nL 369.725568 229.874489 \n\" style=\"fill:none;stroke:#0000ff;stroke-dasharray:5.55,2.4;stroke-dashoffset:0;stroke-width:1.5;\"/>\n    <defs>\n     <path d=\"M 0 3 \nC 0.795609 3 1.55874 2.683901 2.12132 2.12132 \nC 2.683901 1.55874 3 0.795609 3 0 \nC 3 -0.795609 2.683901 -1.55874 2.12132 -2.12132 \nC 1.55874 -2.683901 0.795609 -3 0 -3 \nC -0.795609 -3 -1.55874 -2.683901 -2.12132 -2.12132 \nC -2.683901 -1.55874 -3 -0.795609 -3 0 \nC -3 0.795609 -2.683901 1.55874 -2.12132 2.12132 \nC -1.55874 2.683901 -0.795609 3 0 3 \nz\n\" id=\"m8028495958\" style=\"stroke:#0000ff;\"/>\n    </defs>\n    <g clip-path=\"url(#pdf943ce3b1)\">\n     <use style=\"fill:#0000ff;stroke:#0000ff;\" x=\"65.361932\" xlink:href=\"#m8028495958\" y=\"32.201761\"/>\n     <use style=\"fill:#0000ff;stroke:#0000ff;\" x=\"99.180114\" xlink:href=\"#m8028495958\" y=\"152.172651\"/>\n     <use style=\"fill:#0000ff;stroke:#0000ff;\" x=\"132.998295\" xlink:href=\"#m8028495958\" y=\"178.657404\"/>\n     <use style=\"fill:#0000ff;stroke:#0000ff;\" x=\"166.816477\" xlink:href=\"#m8028495958\" y=\"193.398838\"/>\n     <use style=\"fill:#0000ff;stroke:#0000ff;\" x=\"200.634659\" xlink:href=\"#m8028495958\" y=\"203.477472\"/>\n     <use style=\"fill:#0000ff;stroke:#0000ff;\" x=\"234.452841\" xlink:href=\"#m8028495958\" y=\"210.726815\"/>\n     <use style=\"fill:#0000ff;stroke:#0000ff;\" x=\"268.271023\" xlink:href=\"#m8028495958\" y=\"216.846292\"/>\n     <use style=\"fill:#0000ff;stroke:#0000ff;\" x=\"302.089205\" xlink:href=\"#m8028495958\" y=\"221.57901\"/>\n     <use style=\"fill:#0000ff;stroke:#0000ff;\" x=\"335.907386\" xlink:href=\"#m8028495958\" y=\"225.6518\"/>\n     <use style=\"fill:#0000ff;stroke:#0000ff;\" x=\"369.725568\" xlink:href=\"#m8028495958\" y=\"229.874489\"/>\n    </g>\n   </g>\n   <g id=\"line2d_13\">\n    <path clip-path=\"url(#pdf943ce3b1)\" d=\"M 65.361932 136.783589 \nL 99.180114 165.606269 \nL 132.998295 173.071983 \nL 166.816477 180.171417 \nL 200.634659 181.104126 \nL 234.452841 188.697836 \nL 268.271023 185.595798 \nL 302.089205 180.668403 \nL 335.907386 187.2529 \nL 369.725568 182.18596 \n\" style=\"fill:none;stroke:#ff0000;stroke-linecap:square;stroke-width:1.5;\"/>\n    <defs>\n     <path d=\"M 0 3 \nC 0.795609 3 1.55874 2.683901 2.12132 2.12132 \nC 2.683901 1.55874 3 0.795609 3 0 \nC 3 -0.795609 2.683901 -1.55874 2.12132 -2.12132 \nC 1.55874 -2.683901 0.795609 -3 0 -3 \nC -0.795609 -3 -1.55874 -2.683901 -2.12132 -2.12132 \nC -2.683901 -1.55874 -3 -0.795609 -3 0 \nC -3 0.795609 -2.683901 1.55874 -2.12132 2.12132 \nC -1.55874 2.683901 -0.795609 3 0 3 \nz\n\" id=\"meebf210ac9\" style=\"stroke:#ff0000;\"/>\n    </defs>\n    <g clip-path=\"url(#pdf943ce3b1)\">\n     <use style=\"fill:#ff0000;stroke:#ff0000;\" x=\"65.361932\" xlink:href=\"#meebf210ac9\" y=\"136.783589\"/>\n     <use style=\"fill:#ff0000;stroke:#ff0000;\" x=\"99.180114\" xlink:href=\"#meebf210ac9\" y=\"165.606269\"/>\n     <use style=\"fill:#ff0000;stroke:#ff0000;\" x=\"132.998295\" xlink:href=\"#meebf210ac9\" y=\"173.071983\"/>\n     <use style=\"fill:#ff0000;stroke:#ff0000;\" x=\"166.816477\" xlink:href=\"#meebf210ac9\" y=\"180.171417\"/>\n     <use style=\"fill:#ff0000;stroke:#ff0000;\" x=\"200.634659\" xlink:href=\"#meebf210ac9\" y=\"181.104126\"/>\n     <use style=\"fill:#ff0000;stroke:#ff0000;\" x=\"234.452841\" xlink:href=\"#meebf210ac9\" y=\"188.697836\"/>\n     <use style=\"fill:#ff0000;stroke:#ff0000;\" x=\"268.271023\" xlink:href=\"#meebf210ac9\" y=\"185.595798\"/>\n     <use style=\"fill:#ff0000;stroke:#ff0000;\" x=\"302.089205\" xlink:href=\"#meebf210ac9\" y=\"180.668403\"/>\n     <use style=\"fill:#ff0000;stroke:#ff0000;\" x=\"335.907386\" xlink:href=\"#meebf210ac9\" y=\"187.2529\"/>\n     <use style=\"fill:#ff0000;stroke:#ff0000;\" x=\"369.725568\" xlink:href=\"#meebf210ac9\" y=\"182.18596\"/>\n    </g>\n   </g>\n   <g id=\"patch_3\">\n    <path d=\"M 50.14375 239.758125 \nL 50.14375 22.318125 \n\" style=\"fill:none;stroke:#000000;stroke-linecap:square;stroke-linejoin:miter;stroke-width:0.8;\"/>\n   </g>\n   <g id=\"patch_4\">\n    <path d=\"M 384.94375 239.758125 \nL 384.94375 22.318125 \n\" style=\"fill:none;stroke:#000000;stroke-linecap:square;stroke-linejoin:miter;stroke-width:0.8;\"/>\n   </g>\n   <g id=\"patch_5\">\n    <path d=\"M 50.14375 239.758125 \nL 384.94375 239.758125 \n\" style=\"fill:none;stroke:#000000;stroke-linecap:square;stroke-linejoin:miter;stroke-width:0.8;\"/>\n   </g>\n   <g id=\"patch_6\">\n    <path d=\"M 50.14375 22.318125 \nL 384.94375 22.318125 \n\" style=\"fill:none;stroke:#000000;stroke-linecap:square;stroke-linejoin:miter;stroke-width:0.8;\"/>\n   </g>\n   <g id=\"text_14\">\n    <!-- Training and validation loss -->\n    <defs>\n     <path d=\"M -0.296875 72.90625 \nL 61.375 72.90625 \nL 61.375 64.59375 \nL 35.5 64.59375 \nL 35.5 0 \nL 25.59375 0 \nL 25.59375 64.59375 \nL -0.296875 64.59375 \nz\n\" id=\"DejaVuSans-84\"/>\n     <path d=\"M 41.109375 46.296875 \nQ 39.59375 47.171875 37.8125 47.578125 \nQ 36.03125 48 33.890625 48 \nQ 26.265625 48 22.1875 43.046875 \nQ 18.109375 38.09375 18.109375 28.8125 \nL 18.109375 0 \nL 9.078125 0 \nL 9.078125 54.6875 \nL 18.109375 54.6875 \nL 18.109375 46.1875 \nQ 20.953125 51.171875 25.484375 53.578125 \nQ 30.03125 56 36.53125 56 \nQ 37.453125 56 38.578125 55.875 \nQ 39.703125 55.765625 41.0625 55.515625 \nz\n\" id=\"DejaVuSans-114\"/>\n     <path d=\"M 34.28125 27.484375 \nQ 23.390625 27.484375 19.1875 25 \nQ 14.984375 22.515625 14.984375 16.5 \nQ 14.984375 11.71875 18.140625 8.90625 \nQ 21.296875 6.109375 26.703125 6.109375 \nQ 34.1875 6.109375 38.703125 11.40625 \nQ 43.21875 16.703125 43.21875 25.484375 \nL 43.21875 27.484375 \nz\nM 52.203125 31.203125 \nL 52.203125 0 \nL 43.21875 0 \nL 43.21875 8.296875 \nQ 40.140625 3.328125 35.546875 0.953125 \nQ 30.953125 -1.421875 24.3125 -1.421875 \nQ 15.921875 -1.421875 10.953125 3.296875 \nQ 6 8.015625 6 15.921875 \nQ 6 25.140625 12.171875 29.828125 \nQ 18.359375 34.515625 30.609375 34.515625 \nL 43.21875 34.515625 \nL 43.21875 35.40625 \nQ 43.21875 41.609375 39.140625 45 \nQ 35.0625 48.390625 27.6875 48.390625 \nQ 23 48.390625 18.546875 47.265625 \nQ 14.109375 46.140625 10.015625 43.890625 \nL 10.015625 52.203125 \nQ 14.9375 54.109375 19.578125 55.046875 \nQ 24.21875 56 28.609375 56 \nQ 40.484375 56 46.34375 49.84375 \nQ 52.203125 43.703125 52.203125 31.203125 \nz\n\" id=\"DejaVuSans-97\"/>\n     <path d=\"M 9.421875 54.6875 \nL 18.40625 54.6875 \nL 18.40625 0 \nL 9.421875 0 \nz\nM 9.421875 75.984375 \nL 18.40625 75.984375 \nL 18.40625 64.59375 \nL 9.421875 64.59375 \nz\n\" id=\"DejaVuSans-105\"/>\n     <path d=\"M 54.890625 33.015625 \nL 54.890625 0 \nL 45.90625 0 \nL 45.90625 32.71875 \nQ 45.90625 40.484375 42.875 44.328125 \nQ 39.84375 48.1875 33.796875 48.1875 \nQ 26.515625 48.1875 22.3125 43.546875 \nQ 18.109375 38.921875 18.109375 30.90625 \nL 18.109375 0 \nL 9.078125 0 \nL 9.078125 54.6875 \nL 18.109375 54.6875 \nL 18.109375 46.1875 \nQ 21.34375 51.125 25.703125 53.5625 \nQ 30.078125 56 35.796875 56 \nQ 45.21875 56 50.046875 50.171875 \nQ 54.890625 44.34375 54.890625 33.015625 \nz\n\" id=\"DejaVuSans-110\"/>\n     <path d=\"M 45.40625 27.984375 \nQ 45.40625 37.75 41.375 43.109375 \nQ 37.359375 48.484375 30.078125 48.484375 \nQ 22.859375 48.484375 18.828125 43.109375 \nQ 14.796875 37.75 14.796875 27.984375 \nQ 14.796875 18.265625 18.828125 12.890625 \nQ 22.859375 7.515625 30.078125 7.515625 \nQ 37.359375 7.515625 41.375 12.890625 \nQ 45.40625 18.265625 45.40625 27.984375 \nz\nM 54.390625 6.78125 \nQ 54.390625 -7.171875 48.1875 -13.984375 \nQ 42 -20.796875 29.203125 -20.796875 \nQ 24.46875 -20.796875 20.265625 -20.09375 \nQ 16.0625 -19.390625 12.109375 -17.921875 \nL 12.109375 -9.1875 \nQ 16.0625 -11.328125 19.921875 -12.34375 \nQ 23.78125 -13.375 27.78125 -13.375 \nQ 36.625 -13.375 41.015625 -8.765625 \nQ 45.40625 -4.15625 45.40625 5.171875 \nL 45.40625 9.625 \nQ 42.625 4.78125 38.28125 2.390625 \nQ 33.9375 0 27.875 0 \nQ 17.828125 0 11.671875 7.65625 \nQ 5.515625 15.328125 5.515625 27.984375 \nQ 5.515625 40.671875 11.671875 48.328125 \nQ 17.828125 56 27.875 56 \nQ 33.9375 56 38.28125 53.609375 \nQ 42.625 51.21875 45.40625 46.390625 \nL 45.40625 54.6875 \nL 54.390625 54.6875 \nz\n\" id=\"DejaVuSans-103\"/>\n     <path id=\"DejaVuSans-32\"/>\n     <path d=\"M 45.40625 46.390625 \nL 45.40625 75.984375 \nL 54.390625 75.984375 \nL 54.390625 0 \nL 45.40625 0 \nL 45.40625 8.203125 \nQ 42.578125 3.328125 38.25 0.953125 \nQ 33.9375 -1.421875 27.875 -1.421875 \nQ 17.96875 -1.421875 11.734375 6.484375 \nQ 5.515625 14.40625 5.515625 27.296875 \nQ 5.515625 40.1875 11.734375 48.09375 \nQ 17.96875 56 27.875 56 \nQ 33.9375 56 38.25 53.625 \nQ 42.578125 51.265625 45.40625 46.390625 \nz\nM 14.796875 27.296875 \nQ 14.796875 17.390625 18.875 11.75 \nQ 22.953125 6.109375 30.078125 6.109375 \nQ 37.203125 6.109375 41.296875 11.75 \nQ 45.40625 17.390625 45.40625 27.296875 \nQ 45.40625 37.203125 41.296875 42.84375 \nQ 37.203125 48.484375 30.078125 48.484375 \nQ 22.953125 48.484375 18.875 42.84375 \nQ 14.796875 37.203125 14.796875 27.296875 \nz\n\" id=\"DejaVuSans-100\"/>\n     <path d=\"M 2.984375 54.6875 \nL 12.5 54.6875 \nL 29.59375 8.796875 \nL 46.6875 54.6875 \nL 56.203125 54.6875 \nL 35.6875 0 \nL 23.484375 0 \nz\n\" id=\"DejaVuSans-118\"/>\n     <path d=\"M 18.3125 70.21875 \nL 18.3125 54.6875 \nL 36.8125 54.6875 \nL 36.8125 47.703125 \nL 18.3125 47.703125 \nL 18.3125 18.015625 \nQ 18.3125 11.328125 20.140625 9.421875 \nQ 21.96875 7.515625 27.59375 7.515625 \nL 36.8125 7.515625 \nL 36.8125 0 \nL 27.59375 0 \nQ 17.1875 0 13.234375 3.875 \nQ 9.28125 7.765625 9.28125 18.015625 \nL 9.28125 47.703125 \nL 2.6875 47.703125 \nL 2.6875 54.6875 \nL 9.28125 54.6875 \nL 9.28125 70.21875 \nz\n\" id=\"DejaVuSans-116\"/>\n    </defs>\n    <g transform=\"translate(135.73375 16.318125)scale(0.12 -0.12)\">\n     <use xlink:href=\"#DejaVuSans-84\"/>\n     <use x=\"46.333984\" xlink:href=\"#DejaVuSans-114\"/>\n     <use x=\"87.447266\" xlink:href=\"#DejaVuSans-97\"/>\n     <use x=\"148.726562\" xlink:href=\"#DejaVuSans-105\"/>\n     <use x=\"176.509766\" xlink:href=\"#DejaVuSans-110\"/>\n     <use x=\"239.888672\" xlink:href=\"#DejaVuSans-105\"/>\n     <use x=\"267.671875\" xlink:href=\"#DejaVuSans-110\"/>\n     <use x=\"331.050781\" xlink:href=\"#DejaVuSans-103\"/>\n     <use x=\"394.527344\" xlink:href=\"#DejaVuSans-32\"/>\n     <use x=\"426.314453\" xlink:href=\"#DejaVuSans-97\"/>\n     <use x=\"487.59375\" xlink:href=\"#DejaVuSans-110\"/>\n     <use x=\"550.972656\" xlink:href=\"#DejaVuSans-100\"/>\n     <use x=\"614.449219\" xlink:href=\"#DejaVuSans-32\"/>\n     <use x=\"646.236328\" xlink:href=\"#DejaVuSans-118\"/>\n     <use x=\"705.416016\" xlink:href=\"#DejaVuSans-97\"/>\n     <use x=\"766.695312\" xlink:href=\"#DejaVuSans-108\"/>\n     <use x=\"794.478516\" xlink:href=\"#DejaVuSans-105\"/>\n     <use x=\"822.261719\" xlink:href=\"#DejaVuSans-100\"/>\n     <use x=\"885.738281\" xlink:href=\"#DejaVuSans-97\"/>\n     <use x=\"947.017578\" xlink:href=\"#DejaVuSans-116\"/>\n     <use x=\"986.226562\" xlink:href=\"#DejaVuSans-105\"/>\n     <use x=\"1014.009766\" xlink:href=\"#DejaVuSans-111\"/>\n     <use x=\"1075.191406\" xlink:href=\"#DejaVuSans-110\"/>\n     <use x=\"1138.570312\" xlink:href=\"#DejaVuSans-32\"/>\n     <use x=\"1170.357422\" xlink:href=\"#DejaVuSans-108\"/>\n     <use x=\"1198.140625\" xlink:href=\"#DejaVuSans-111\"/>\n     <use x=\"1259.322266\" xlink:href=\"#DejaVuSans-115\"/>\n     <use x=\"1311.421875\" xlink:href=\"#DejaVuSans-115\"/>\n    </g>\n   </g>\n   <g id=\"legend_1\">\n    <g id=\"patch_7\">\n     <path d=\"M 298.353125 60.230625 \nL 377.94375 60.230625 \nQ 379.94375 60.230625 379.94375 58.230625 \nL 379.94375 29.318125 \nQ 379.94375 27.318125 377.94375 27.318125 \nL 298.353125 27.318125 \nQ 296.353125 27.318125 296.353125 29.318125 \nL 296.353125 58.230625 \nQ 296.353125 60.230625 298.353125 60.230625 \nz\n\" style=\"fill:#ffffff;opacity:0.8;stroke:#cccccc;stroke-linejoin:miter;\"/>\n    </g>\n    <g id=\"line2d_14\">\n     <path d=\"M 300.353125 35.416562 \nL 320.353125 35.416562 \n\" style=\"fill:none;stroke:#0000ff;stroke-dasharray:5.55,2.4;stroke-dashoffset:0;stroke-width:1.5;\"/>\n    </g>\n    <g id=\"line2d_15\">\n     <g>\n      <use style=\"fill:#0000ff;stroke:#0000ff;\" x=\"310.353125\" xlink:href=\"#m8028495958\" y=\"35.416562\"/>\n     </g>\n    </g>\n    <g id=\"text_15\">\n     <!-- train_loss -->\n     <defs>\n      <path d=\"M 50.984375 -16.609375 \nL 50.984375 -23.578125 \nL -0.984375 -23.578125 \nL -0.984375 -16.609375 \nz\n\" id=\"DejaVuSans-95\"/>\n     </defs>\n     <g transform=\"translate(328.353125 38.916562)scale(0.1 -0.1)\">\n      <use xlink:href=\"#DejaVuSans-116\"/>\n      <use x=\"39.208984\" xlink:href=\"#DejaVuSans-114\"/>\n      <use x=\"80.322266\" xlink:href=\"#DejaVuSans-97\"/>\n      <use x=\"141.601562\" xlink:href=\"#DejaVuSans-105\"/>\n      <use x=\"169.384766\" xlink:href=\"#DejaVuSans-110\"/>\n      <use x=\"232.763672\" xlink:href=\"#DejaVuSans-95\"/>\n      <use x=\"282.763672\" xlink:href=\"#DejaVuSans-108\"/>\n      <use x=\"310.546875\" xlink:href=\"#DejaVuSans-111\"/>\n      <use x=\"371.728516\" xlink:href=\"#DejaVuSans-115\"/>\n      <use x=\"423.828125\" xlink:href=\"#DejaVuSans-115\"/>\n     </g>\n    </g>\n    <g id=\"line2d_16\">\n     <path d=\"M 300.353125 50.372812 \nL 320.353125 50.372812 \n\" style=\"fill:none;stroke:#ff0000;stroke-linecap:square;stroke-width:1.5;\"/>\n    </g>\n    <g id=\"line2d_17\">\n     <g>\n      <use style=\"fill:#ff0000;stroke:#ff0000;\" x=\"310.353125\" xlink:href=\"#meebf210ac9\" y=\"50.372812\"/>\n     </g>\n    </g>\n    <g id=\"text_16\">\n     <!-- val_loss -->\n     <g transform=\"translate(328.353125 53.872812)scale(0.1 -0.1)\">\n      <use xlink:href=\"#DejaVuSans-118\"/>\n      <use x=\"59.179688\" xlink:href=\"#DejaVuSans-97\"/>\n      <use x=\"120.458984\" xlink:href=\"#DejaVuSans-108\"/>\n      <use x=\"148.242188\" xlink:href=\"#DejaVuSans-95\"/>\n      <use x=\"198.242188\" xlink:href=\"#DejaVuSans-108\"/>\n      <use x=\"226.025391\" xlink:href=\"#DejaVuSans-111\"/>\n      <use x=\"287.207031\" xlink:href=\"#DejaVuSans-115\"/>\n      <use x=\"339.306641\" xlink:href=\"#DejaVuSans-115\"/>\n     </g>\n    </g>\n   </g>\n  </g>\n </g>\n <defs>\n  <clipPath id=\"pdf943ce3b1\">\n   <rect height=\"217.44\" width=\"334.8\" x=\"50.14375\" y=\"22.318125\"/>\n  </clipPath>\n </defs>\n</svg>\n"
          },
          "metadata": {
            "needs_background": "light"
          }
        }
      ]
    },
    {
      "cell_type": "code",
      "metadata": {
        "id": "u3VFkotjvRg8",
        "colab": {
          "base_uri": "https://localhost:8080/",
          "height": 392
        },
        "outputId": "d88cf2c6-0934-4d8d-e4a9-68a88067e807"
      },
      "source": [
        "plot_metric(history, 'sparse_categorical_accuracy')"
      ],
      "execution_count": null,
      "outputs": [
        {
          "output_type": "display_data",
          "data": {
            "text/plain": [
              "<Figure size 432x288 with 1 Axes>"
            ],
            "image/svg+xml": "<?xml version=\"1.0\" encoding=\"utf-8\" standalone=\"no\"?>\n<!DOCTYPE svg PUBLIC \"-//W3C//DTD SVG 1.1//EN\"\n  \"http://www.w3.org/Graphics/SVG/1.1/DTD/svg11.dtd\">\n<!-- Created with matplotlib (https://matplotlib.org/) -->\n<svg height=\"277.314375pt\" version=\"1.1\" viewBox=\"0 0 392.421875 277.314375\" width=\"392.421875pt\" xmlns=\"http://www.w3.org/2000/svg\" xmlns:xlink=\"http://www.w3.org/1999/xlink\">\n <defs>\n  <style type=\"text/css\">\n*{stroke-linecap:butt;stroke-linejoin:round;}\n  </style>\n </defs>\n <g id=\"figure_1\">\n  <g id=\"patch_1\">\n   <path d=\"M 0 277.314375 \nL 392.421875 277.314375 \nL 392.421875 0 \nL 0 0 \nz\n\" style=\"fill:none;\"/>\n  </g>\n  <g id=\"axes_1\">\n   <g id=\"patch_2\">\n    <path d=\"M 50.421875 239.758125 \nL 385.221875 239.758125 \nL 385.221875 22.318125 \nL 50.421875 22.318125 \nz\n\" style=\"fill:#ffffff;\"/>\n   </g>\n   <g id=\"matplotlib.axis_1\">\n    <g id=\"xtick_1\">\n     <g id=\"line2d_1\">\n      <defs>\n       <path d=\"M 0 0 \nL 0 3.5 \n\" id=\"m462968855d\" style=\"stroke:#000000;stroke-width:0.8;\"/>\n      </defs>\n      <g>\n       <use style=\"stroke:#000000;stroke-width:0.8;\" x=\"99.458239\" xlink:href=\"#m462968855d\" y=\"239.758125\"/>\n      </g>\n     </g>\n     <g id=\"text_1\">\n      <!-- 2 -->\n      <defs>\n       <path d=\"M 19.1875 8.296875 \nL 53.609375 8.296875 \nL 53.609375 0 \nL 7.328125 0 \nL 7.328125 8.296875 \nQ 12.9375 14.109375 22.625 23.890625 \nQ 32.328125 33.6875 34.8125 36.53125 \nQ 39.546875 41.84375 41.421875 45.53125 \nQ 43.3125 49.21875 43.3125 52.78125 \nQ 43.3125 58.59375 39.234375 62.25 \nQ 35.15625 65.921875 28.609375 65.921875 \nQ 23.96875 65.921875 18.8125 64.3125 \nQ 13.671875 62.703125 7.8125 59.421875 \nL 7.8125 69.390625 \nQ 13.765625 71.78125 18.9375 73 \nQ 24.125 74.21875 28.421875 74.21875 \nQ 39.75 74.21875 46.484375 68.546875 \nQ 53.21875 62.890625 53.21875 53.421875 \nQ 53.21875 48.921875 51.53125 44.890625 \nQ 49.859375 40.875 45.40625 35.40625 \nQ 44.1875 33.984375 37.640625 27.21875 \nQ 31.109375 20.453125 19.1875 8.296875 \nz\n\" id=\"DejaVuSans-50\"/>\n      </defs>\n      <g transform=\"translate(96.276989 254.356562)scale(0.1 -0.1)\">\n       <use xlink:href=\"#DejaVuSans-50\"/>\n      </g>\n     </g>\n    </g>\n    <g id=\"xtick_2\">\n     <g id=\"line2d_2\">\n      <g>\n       <use style=\"stroke:#000000;stroke-width:0.8;\" x=\"167.094602\" xlink:href=\"#m462968855d\" y=\"239.758125\"/>\n      </g>\n     </g>\n     <g id=\"text_2\">\n      <!-- 4 -->\n      <defs>\n       <path d=\"M 37.796875 64.3125 \nL 12.890625 25.390625 \nL 37.796875 25.390625 \nz\nM 35.203125 72.90625 \nL 47.609375 72.90625 \nL 47.609375 25.390625 \nL 58.015625 25.390625 \nL 58.015625 17.1875 \nL 47.609375 17.1875 \nL 47.609375 0 \nL 37.796875 0 \nL 37.796875 17.1875 \nL 4.890625 17.1875 \nL 4.890625 26.703125 \nz\n\" id=\"DejaVuSans-52\"/>\n      </defs>\n      <g transform=\"translate(163.913352 254.356562)scale(0.1 -0.1)\">\n       <use xlink:href=\"#DejaVuSans-52\"/>\n      </g>\n     </g>\n    </g>\n    <g id=\"xtick_3\">\n     <g id=\"line2d_3\">\n      <g>\n       <use style=\"stroke:#000000;stroke-width:0.8;\" x=\"234.730966\" xlink:href=\"#m462968855d\" y=\"239.758125\"/>\n      </g>\n     </g>\n     <g id=\"text_3\">\n      <!-- 6 -->\n      <defs>\n       <path d=\"M 33.015625 40.375 \nQ 26.375 40.375 22.484375 35.828125 \nQ 18.609375 31.296875 18.609375 23.390625 \nQ 18.609375 15.53125 22.484375 10.953125 \nQ 26.375 6.390625 33.015625 6.390625 \nQ 39.65625 6.390625 43.53125 10.953125 \nQ 47.40625 15.53125 47.40625 23.390625 \nQ 47.40625 31.296875 43.53125 35.828125 \nQ 39.65625 40.375 33.015625 40.375 \nz\nM 52.59375 71.296875 \nL 52.59375 62.3125 \nQ 48.875 64.0625 45.09375 64.984375 \nQ 41.3125 65.921875 37.59375 65.921875 \nQ 27.828125 65.921875 22.671875 59.328125 \nQ 17.53125 52.734375 16.796875 39.40625 \nQ 19.671875 43.65625 24.015625 45.921875 \nQ 28.375 48.1875 33.59375 48.1875 \nQ 44.578125 48.1875 50.953125 41.515625 \nQ 57.328125 34.859375 57.328125 23.390625 \nQ 57.328125 12.15625 50.6875 5.359375 \nQ 44.046875 -1.421875 33.015625 -1.421875 \nQ 20.359375 -1.421875 13.671875 8.265625 \nQ 6.984375 17.96875 6.984375 36.375 \nQ 6.984375 53.65625 15.1875 63.9375 \nQ 23.390625 74.21875 37.203125 74.21875 \nQ 40.921875 74.21875 44.703125 73.484375 \nQ 48.484375 72.75 52.59375 71.296875 \nz\n\" id=\"DejaVuSans-54\"/>\n      </defs>\n      <g transform=\"translate(231.549716 254.356562)scale(0.1 -0.1)\">\n       <use xlink:href=\"#DejaVuSans-54\"/>\n      </g>\n     </g>\n    </g>\n    <g id=\"xtick_4\">\n     <g id=\"line2d_4\">\n      <g>\n       <use style=\"stroke:#000000;stroke-width:0.8;\" x=\"302.36733\" xlink:href=\"#m462968855d\" y=\"239.758125\"/>\n      </g>\n     </g>\n     <g id=\"text_4\">\n      <!-- 8 -->\n      <defs>\n       <path d=\"M 31.78125 34.625 \nQ 24.75 34.625 20.71875 30.859375 \nQ 16.703125 27.09375 16.703125 20.515625 \nQ 16.703125 13.921875 20.71875 10.15625 \nQ 24.75 6.390625 31.78125 6.390625 \nQ 38.8125 6.390625 42.859375 10.171875 \nQ 46.921875 13.96875 46.921875 20.515625 \nQ 46.921875 27.09375 42.890625 30.859375 \nQ 38.875 34.625 31.78125 34.625 \nz\nM 21.921875 38.8125 \nQ 15.578125 40.375 12.03125 44.71875 \nQ 8.5 49.078125 8.5 55.328125 \nQ 8.5 64.0625 14.71875 69.140625 \nQ 20.953125 74.21875 31.78125 74.21875 \nQ 42.671875 74.21875 48.875 69.140625 \nQ 55.078125 64.0625 55.078125 55.328125 \nQ 55.078125 49.078125 51.53125 44.71875 \nQ 48 40.375 41.703125 38.8125 \nQ 48.828125 37.15625 52.796875 32.3125 \nQ 56.78125 27.484375 56.78125 20.515625 \nQ 56.78125 9.90625 50.3125 4.234375 \nQ 43.84375 -1.421875 31.78125 -1.421875 \nQ 19.734375 -1.421875 13.25 4.234375 \nQ 6.78125 9.90625 6.78125 20.515625 \nQ 6.78125 27.484375 10.78125 32.3125 \nQ 14.796875 37.15625 21.921875 38.8125 \nz\nM 18.3125 54.390625 \nQ 18.3125 48.734375 21.84375 45.5625 \nQ 25.390625 42.390625 31.78125 42.390625 \nQ 38.140625 42.390625 41.71875 45.5625 \nQ 45.3125 48.734375 45.3125 54.390625 \nQ 45.3125 60.0625 41.71875 63.234375 \nQ 38.140625 66.40625 31.78125 66.40625 \nQ 25.390625 66.40625 21.84375 63.234375 \nQ 18.3125 60.0625 18.3125 54.390625 \nz\n\" id=\"DejaVuSans-56\"/>\n      </defs>\n      <g transform=\"translate(299.18608 254.356562)scale(0.1 -0.1)\">\n       <use xlink:href=\"#DejaVuSans-56\"/>\n      </g>\n     </g>\n    </g>\n    <g id=\"xtick_5\">\n     <g id=\"line2d_5\">\n      <g>\n       <use style=\"stroke:#000000;stroke-width:0.8;\" x=\"370.003693\" xlink:href=\"#m462968855d\" y=\"239.758125\"/>\n      </g>\n     </g>\n     <g id=\"text_5\">\n      <!-- 10 -->\n      <defs>\n       <path d=\"M 12.40625 8.296875 \nL 28.515625 8.296875 \nL 28.515625 63.921875 \nL 10.984375 60.40625 \nL 10.984375 69.390625 \nL 28.421875 72.90625 \nL 38.28125 72.90625 \nL 38.28125 8.296875 \nL 54.390625 8.296875 \nL 54.390625 0 \nL 12.40625 0 \nz\n\" id=\"DejaVuSans-49\"/>\n       <path d=\"M 31.78125 66.40625 \nQ 24.171875 66.40625 20.328125 58.90625 \nQ 16.5 51.421875 16.5 36.375 \nQ 16.5 21.390625 20.328125 13.890625 \nQ 24.171875 6.390625 31.78125 6.390625 \nQ 39.453125 6.390625 43.28125 13.890625 \nQ 47.125 21.390625 47.125 36.375 \nQ 47.125 51.421875 43.28125 58.90625 \nQ 39.453125 66.40625 31.78125 66.40625 \nz\nM 31.78125 74.21875 \nQ 44.046875 74.21875 50.515625 64.515625 \nQ 56.984375 54.828125 56.984375 36.375 \nQ 56.984375 17.96875 50.515625 8.265625 \nQ 44.046875 -1.421875 31.78125 -1.421875 \nQ 19.53125 -1.421875 13.0625 8.265625 \nQ 6.59375 17.96875 6.59375 36.375 \nQ 6.59375 54.828125 13.0625 64.515625 \nQ 19.53125 74.21875 31.78125 74.21875 \nz\n\" id=\"DejaVuSans-48\"/>\n      </defs>\n      <g transform=\"translate(363.641193 254.356562)scale(0.1 -0.1)\">\n       <use xlink:href=\"#DejaVuSans-49\"/>\n       <use x=\"63.623047\" xlink:href=\"#DejaVuSans-48\"/>\n      </g>\n     </g>\n    </g>\n    <g id=\"text_6\">\n     <!-- Epochs -->\n     <defs>\n      <path d=\"M 9.8125 72.90625 \nL 55.90625 72.90625 \nL 55.90625 64.59375 \nL 19.671875 64.59375 \nL 19.671875 43.015625 \nL 54.390625 43.015625 \nL 54.390625 34.71875 \nL 19.671875 34.71875 \nL 19.671875 8.296875 \nL 56.78125 8.296875 \nL 56.78125 0 \nL 9.8125 0 \nz\n\" id=\"DejaVuSans-69\"/>\n      <path d=\"M 18.109375 8.203125 \nL 18.109375 -20.796875 \nL 9.078125 -20.796875 \nL 9.078125 54.6875 \nL 18.109375 54.6875 \nL 18.109375 46.390625 \nQ 20.953125 51.265625 25.265625 53.625 \nQ 29.59375 56 35.59375 56 \nQ 45.5625 56 51.78125 48.09375 \nQ 58.015625 40.1875 58.015625 27.296875 \nQ 58.015625 14.40625 51.78125 6.484375 \nQ 45.5625 -1.421875 35.59375 -1.421875 \nQ 29.59375 -1.421875 25.265625 0.953125 \nQ 20.953125 3.328125 18.109375 8.203125 \nz\nM 48.6875 27.296875 \nQ 48.6875 37.203125 44.609375 42.84375 \nQ 40.53125 48.484375 33.40625 48.484375 \nQ 26.265625 48.484375 22.1875 42.84375 \nQ 18.109375 37.203125 18.109375 27.296875 \nQ 18.109375 17.390625 22.1875 11.75 \nQ 26.265625 6.109375 33.40625 6.109375 \nQ 40.53125 6.109375 44.609375 11.75 \nQ 48.6875 17.390625 48.6875 27.296875 \nz\n\" id=\"DejaVuSans-112\"/>\n      <path d=\"M 30.609375 48.390625 \nQ 23.390625 48.390625 19.1875 42.75 \nQ 14.984375 37.109375 14.984375 27.296875 \nQ 14.984375 17.484375 19.15625 11.84375 \nQ 23.34375 6.203125 30.609375 6.203125 \nQ 37.796875 6.203125 41.984375 11.859375 \nQ 46.1875 17.53125 46.1875 27.296875 \nQ 46.1875 37.015625 41.984375 42.703125 \nQ 37.796875 48.390625 30.609375 48.390625 \nz\nM 30.609375 56 \nQ 42.328125 56 49.015625 48.375 \nQ 55.71875 40.765625 55.71875 27.296875 \nQ 55.71875 13.875 49.015625 6.21875 \nQ 42.328125 -1.421875 30.609375 -1.421875 \nQ 18.84375 -1.421875 12.171875 6.21875 \nQ 5.515625 13.875 5.515625 27.296875 \nQ 5.515625 40.765625 12.171875 48.375 \nQ 18.84375 56 30.609375 56 \nz\n\" id=\"DejaVuSans-111\"/>\n      <path d=\"M 48.78125 52.59375 \nL 48.78125 44.1875 \nQ 44.96875 46.296875 41.140625 47.34375 \nQ 37.3125 48.390625 33.40625 48.390625 \nQ 24.65625 48.390625 19.8125 42.84375 \nQ 14.984375 37.3125 14.984375 27.296875 \nQ 14.984375 17.28125 19.8125 11.734375 \nQ 24.65625 6.203125 33.40625 6.203125 \nQ 37.3125 6.203125 41.140625 7.25 \nQ 44.96875 8.296875 48.78125 10.40625 \nL 48.78125 2.09375 \nQ 45.015625 0.34375 40.984375 -0.53125 \nQ 36.96875 -1.421875 32.421875 -1.421875 \nQ 20.0625 -1.421875 12.78125 6.34375 \nQ 5.515625 14.109375 5.515625 27.296875 \nQ 5.515625 40.671875 12.859375 48.328125 \nQ 20.21875 56 33.015625 56 \nQ 37.15625 56 41.109375 55.140625 \nQ 45.0625 54.296875 48.78125 52.59375 \nz\n\" id=\"DejaVuSans-99\"/>\n      <path d=\"M 54.890625 33.015625 \nL 54.890625 0 \nL 45.90625 0 \nL 45.90625 32.71875 \nQ 45.90625 40.484375 42.875 44.328125 \nQ 39.84375 48.1875 33.796875 48.1875 \nQ 26.515625 48.1875 22.3125 43.546875 \nQ 18.109375 38.921875 18.109375 30.90625 \nL 18.109375 0 \nL 9.078125 0 \nL 9.078125 75.984375 \nL 18.109375 75.984375 \nL 18.109375 46.1875 \nQ 21.34375 51.125 25.703125 53.5625 \nQ 30.078125 56 35.796875 56 \nQ 45.21875 56 50.046875 50.171875 \nQ 54.890625 44.34375 54.890625 33.015625 \nz\n\" id=\"DejaVuSans-104\"/>\n      <path d=\"M 44.28125 53.078125 \nL 44.28125 44.578125 \nQ 40.484375 46.53125 36.375 47.5 \nQ 32.28125 48.484375 27.875 48.484375 \nQ 21.1875 48.484375 17.84375 46.4375 \nQ 14.5 44.390625 14.5 40.28125 \nQ 14.5 37.15625 16.890625 35.375 \nQ 19.28125 33.59375 26.515625 31.984375 \nL 29.59375 31.296875 \nQ 39.15625 29.25 43.1875 25.515625 \nQ 47.21875 21.78125 47.21875 15.09375 \nQ 47.21875 7.46875 41.1875 3.015625 \nQ 35.15625 -1.421875 24.609375 -1.421875 \nQ 20.21875 -1.421875 15.453125 -0.5625 \nQ 10.6875 0.296875 5.421875 2 \nL 5.421875 11.28125 \nQ 10.40625 8.6875 15.234375 7.390625 \nQ 20.0625 6.109375 24.8125 6.109375 \nQ 31.15625 6.109375 34.5625 8.28125 \nQ 37.984375 10.453125 37.984375 14.40625 \nQ 37.984375 18.0625 35.515625 20.015625 \nQ 33.0625 21.96875 24.703125 23.78125 \nL 21.578125 24.515625 \nQ 13.234375 26.265625 9.515625 29.90625 \nQ 5.8125 33.546875 5.8125 39.890625 \nQ 5.8125 47.609375 11.28125 51.796875 \nQ 16.75 56 26.8125 56 \nQ 31.78125 56 36.171875 55.265625 \nQ 40.578125 54.546875 44.28125 53.078125 \nz\n\" id=\"DejaVuSans-115\"/>\n     </defs>\n     <g transform=\"translate(199.90625 268.034687)scale(0.1 -0.1)\">\n      <use xlink:href=\"#DejaVuSans-69\"/>\n      <use x=\"63.183594\" xlink:href=\"#DejaVuSans-112\"/>\n      <use x=\"126.660156\" xlink:href=\"#DejaVuSans-111\"/>\n      <use x=\"187.841797\" xlink:href=\"#DejaVuSans-99\"/>\n      <use x=\"242.822266\" xlink:href=\"#DejaVuSans-104\"/>\n      <use x=\"306.201172\" xlink:href=\"#DejaVuSans-115\"/>\n     </g>\n    </g>\n   </g>\n   <g id=\"matplotlib.axis_2\">\n    <g id=\"ytick_1\">\n     <g id=\"line2d_6\">\n      <defs>\n       <path d=\"M 0 0 \nL -3.5 0 \n\" id=\"m13c1d157f6\" style=\"stroke:#000000;stroke-width:0.8;\"/>\n      </defs>\n      <g>\n       <use style=\"stroke:#000000;stroke-width:0.8;\" x=\"50.421875\" xlink:href=\"#m13c1d157f6\" y=\"198.027438\"/>\n      </g>\n     </g>\n     <g id=\"text_7\">\n      <!-- 0.92 -->\n      <defs>\n       <path d=\"M 10.6875 12.40625 \nL 21 12.40625 \nL 21 0 \nL 10.6875 0 \nz\n\" id=\"DejaVuSans-46\"/>\n       <path d=\"M 10.984375 1.515625 \nL 10.984375 10.5 \nQ 14.703125 8.734375 18.5 7.8125 \nQ 22.3125 6.890625 25.984375 6.890625 \nQ 35.75 6.890625 40.890625 13.453125 \nQ 46.046875 20.015625 46.78125 33.40625 \nQ 43.953125 29.203125 39.59375 26.953125 \nQ 35.25 24.703125 29.984375 24.703125 \nQ 19.046875 24.703125 12.671875 31.3125 \nQ 6.296875 37.9375 6.296875 49.421875 \nQ 6.296875 60.640625 12.9375 67.421875 \nQ 19.578125 74.21875 30.609375 74.21875 \nQ 43.265625 74.21875 49.921875 64.515625 \nQ 56.59375 54.828125 56.59375 36.375 \nQ 56.59375 19.140625 48.40625 8.859375 \nQ 40.234375 -1.421875 26.421875 -1.421875 \nQ 22.703125 -1.421875 18.890625 -0.6875 \nQ 15.09375 0.046875 10.984375 1.515625 \nz\nM 30.609375 32.421875 \nQ 37.25 32.421875 41.125 36.953125 \nQ 45.015625 41.5 45.015625 49.421875 \nQ 45.015625 57.28125 41.125 61.84375 \nQ 37.25 66.40625 30.609375 66.40625 \nQ 23.96875 66.40625 20.09375 61.84375 \nQ 16.21875 57.28125 16.21875 49.421875 \nQ 16.21875 41.5 20.09375 36.953125 \nQ 23.96875 32.421875 30.609375 32.421875 \nz\n\" id=\"DejaVuSans-57\"/>\n      </defs>\n      <g transform=\"translate(21.15625 201.826656)scale(0.1 -0.1)\">\n       <use xlink:href=\"#DejaVuSans-48\"/>\n       <use x=\"63.623047\" xlink:href=\"#DejaVuSans-46\"/>\n       <use x=\"95.410156\" xlink:href=\"#DejaVuSans-57\"/>\n       <use x=\"159.033203\" xlink:href=\"#DejaVuSans-50\"/>\n      </g>\n     </g>\n    </g>\n    <g id=\"ytick_2\">\n     <g id=\"line2d_7\">\n      <g>\n       <use style=\"stroke:#000000;stroke-width:0.8;\" x=\"50.421875\" xlink:href=\"#m13c1d157f6\" y=\"149.920192\"/>\n      </g>\n     </g>\n     <g id=\"text_8\">\n      <!-- 0.94 -->\n      <g transform=\"translate(21.15625 153.719411)scale(0.1 -0.1)\">\n       <use xlink:href=\"#DejaVuSans-48\"/>\n       <use x=\"63.623047\" xlink:href=\"#DejaVuSans-46\"/>\n       <use x=\"95.410156\" xlink:href=\"#DejaVuSans-57\"/>\n       <use x=\"159.033203\" xlink:href=\"#DejaVuSans-52\"/>\n      </g>\n     </g>\n    </g>\n    <g id=\"ytick_3\">\n     <g id=\"line2d_8\">\n      <g>\n       <use style=\"stroke:#000000;stroke-width:0.8;\" x=\"50.421875\" xlink:href=\"#m13c1d157f6\" y=\"101.812947\"/>\n      </g>\n     </g>\n     <g id=\"text_9\">\n      <!-- 0.96 -->\n      <g transform=\"translate(21.15625 105.612166)scale(0.1 -0.1)\">\n       <use xlink:href=\"#DejaVuSans-48\"/>\n       <use x=\"63.623047\" xlink:href=\"#DejaVuSans-46\"/>\n       <use x=\"95.410156\" xlink:href=\"#DejaVuSans-57\"/>\n       <use x=\"159.033203\" xlink:href=\"#DejaVuSans-54\"/>\n      </g>\n     </g>\n    </g>\n    <g id=\"ytick_4\">\n     <g id=\"line2d_9\">\n      <g>\n       <use style=\"stroke:#000000;stroke-width:0.8;\" x=\"50.421875\" xlink:href=\"#m13c1d157f6\" y=\"53.705701\"/>\n      </g>\n     </g>\n     <g id=\"text_10\">\n      <!-- 0.98 -->\n      <g transform=\"translate(21.15625 57.50492)scale(0.1 -0.1)\">\n       <use xlink:href=\"#DejaVuSans-48\"/>\n       <use x=\"63.623047\" xlink:href=\"#DejaVuSans-46\"/>\n       <use x=\"95.410156\" xlink:href=\"#DejaVuSans-57\"/>\n       <use x=\"159.033203\" xlink:href=\"#DejaVuSans-56\"/>\n      </g>\n     </g>\n    </g>\n    <g id=\"text_11\">\n     <!-- sparse_categorical_accuracy -->\n     <defs>\n      <path d=\"M 34.28125 27.484375 \nQ 23.390625 27.484375 19.1875 25 \nQ 14.984375 22.515625 14.984375 16.5 \nQ 14.984375 11.71875 18.140625 8.90625 \nQ 21.296875 6.109375 26.703125 6.109375 \nQ 34.1875 6.109375 38.703125 11.40625 \nQ 43.21875 16.703125 43.21875 25.484375 \nL 43.21875 27.484375 \nz\nM 52.203125 31.203125 \nL 52.203125 0 \nL 43.21875 0 \nL 43.21875 8.296875 \nQ 40.140625 3.328125 35.546875 0.953125 \nQ 30.953125 -1.421875 24.3125 -1.421875 \nQ 15.921875 -1.421875 10.953125 3.296875 \nQ 6 8.015625 6 15.921875 \nQ 6 25.140625 12.171875 29.828125 \nQ 18.359375 34.515625 30.609375 34.515625 \nL 43.21875 34.515625 \nL 43.21875 35.40625 \nQ 43.21875 41.609375 39.140625 45 \nQ 35.0625 48.390625 27.6875 48.390625 \nQ 23 48.390625 18.546875 47.265625 \nQ 14.109375 46.140625 10.015625 43.890625 \nL 10.015625 52.203125 \nQ 14.9375 54.109375 19.578125 55.046875 \nQ 24.21875 56 28.609375 56 \nQ 40.484375 56 46.34375 49.84375 \nQ 52.203125 43.703125 52.203125 31.203125 \nz\n\" id=\"DejaVuSans-97\"/>\n      <path d=\"M 41.109375 46.296875 \nQ 39.59375 47.171875 37.8125 47.578125 \nQ 36.03125 48 33.890625 48 \nQ 26.265625 48 22.1875 43.046875 \nQ 18.109375 38.09375 18.109375 28.8125 \nL 18.109375 0 \nL 9.078125 0 \nL 9.078125 54.6875 \nL 18.109375 54.6875 \nL 18.109375 46.1875 \nQ 20.953125 51.171875 25.484375 53.578125 \nQ 30.03125 56 36.53125 56 \nQ 37.453125 56 38.578125 55.875 \nQ 39.703125 55.765625 41.0625 55.515625 \nz\n\" id=\"DejaVuSans-114\"/>\n      <path d=\"M 56.203125 29.59375 \nL 56.203125 25.203125 \nL 14.890625 25.203125 \nQ 15.484375 15.921875 20.484375 11.0625 \nQ 25.484375 6.203125 34.421875 6.203125 \nQ 39.59375 6.203125 44.453125 7.46875 \nQ 49.3125 8.734375 54.109375 11.28125 \nL 54.109375 2.78125 \nQ 49.265625 0.734375 44.1875 -0.34375 \nQ 39.109375 -1.421875 33.890625 -1.421875 \nQ 20.796875 -1.421875 13.15625 6.1875 \nQ 5.515625 13.8125 5.515625 26.8125 \nQ 5.515625 40.234375 12.765625 48.109375 \nQ 20.015625 56 32.328125 56 \nQ 43.359375 56 49.78125 48.890625 \nQ 56.203125 41.796875 56.203125 29.59375 \nz\nM 47.21875 32.234375 \nQ 47.125 39.59375 43.09375 43.984375 \nQ 39.0625 48.390625 32.421875 48.390625 \nQ 24.90625 48.390625 20.390625 44.140625 \nQ 15.875 39.890625 15.1875 32.171875 \nz\n\" id=\"DejaVuSans-101\"/>\n      <path d=\"M 50.984375 -16.609375 \nL 50.984375 -23.578125 \nL -0.984375 -23.578125 \nL -0.984375 -16.609375 \nz\n\" id=\"DejaVuSans-95\"/>\n      <path d=\"M 18.3125 70.21875 \nL 18.3125 54.6875 \nL 36.8125 54.6875 \nL 36.8125 47.703125 \nL 18.3125 47.703125 \nL 18.3125 18.015625 \nQ 18.3125 11.328125 20.140625 9.421875 \nQ 21.96875 7.515625 27.59375 7.515625 \nL 36.8125 7.515625 \nL 36.8125 0 \nL 27.59375 0 \nQ 17.1875 0 13.234375 3.875 \nQ 9.28125 7.765625 9.28125 18.015625 \nL 9.28125 47.703125 \nL 2.6875 47.703125 \nL 2.6875 54.6875 \nL 9.28125 54.6875 \nL 9.28125 70.21875 \nz\n\" id=\"DejaVuSans-116\"/>\n      <path d=\"M 45.40625 27.984375 \nQ 45.40625 37.75 41.375 43.109375 \nQ 37.359375 48.484375 30.078125 48.484375 \nQ 22.859375 48.484375 18.828125 43.109375 \nQ 14.796875 37.75 14.796875 27.984375 \nQ 14.796875 18.265625 18.828125 12.890625 \nQ 22.859375 7.515625 30.078125 7.515625 \nQ 37.359375 7.515625 41.375 12.890625 \nQ 45.40625 18.265625 45.40625 27.984375 \nz\nM 54.390625 6.78125 \nQ 54.390625 -7.171875 48.1875 -13.984375 \nQ 42 -20.796875 29.203125 -20.796875 \nQ 24.46875 -20.796875 20.265625 -20.09375 \nQ 16.0625 -19.390625 12.109375 -17.921875 \nL 12.109375 -9.1875 \nQ 16.0625 -11.328125 19.921875 -12.34375 \nQ 23.78125 -13.375 27.78125 -13.375 \nQ 36.625 -13.375 41.015625 -8.765625 \nQ 45.40625 -4.15625 45.40625 5.171875 \nL 45.40625 9.625 \nQ 42.625 4.78125 38.28125 2.390625 \nQ 33.9375 0 27.875 0 \nQ 17.828125 0 11.671875 7.65625 \nQ 5.515625 15.328125 5.515625 27.984375 \nQ 5.515625 40.671875 11.671875 48.328125 \nQ 17.828125 56 27.875 56 \nQ 33.9375 56 38.28125 53.609375 \nQ 42.625 51.21875 45.40625 46.390625 \nL 45.40625 54.6875 \nL 54.390625 54.6875 \nz\n\" id=\"DejaVuSans-103\"/>\n      <path d=\"M 9.421875 54.6875 \nL 18.40625 54.6875 \nL 18.40625 0 \nL 9.421875 0 \nz\nM 9.421875 75.984375 \nL 18.40625 75.984375 \nL 18.40625 64.59375 \nL 9.421875 64.59375 \nz\n\" id=\"DejaVuSans-105\"/>\n      <path d=\"M 9.421875 75.984375 \nL 18.40625 75.984375 \nL 18.40625 0 \nL 9.421875 0 \nz\n\" id=\"DejaVuSans-108\"/>\n      <path d=\"M 8.5 21.578125 \nL 8.5 54.6875 \nL 17.484375 54.6875 \nL 17.484375 21.921875 \nQ 17.484375 14.15625 20.5 10.265625 \nQ 23.53125 6.390625 29.59375 6.390625 \nQ 36.859375 6.390625 41.078125 11.03125 \nQ 45.3125 15.671875 45.3125 23.6875 \nL 45.3125 54.6875 \nL 54.296875 54.6875 \nL 54.296875 0 \nL 45.3125 0 \nL 45.3125 8.40625 \nQ 42.046875 3.421875 37.71875 1 \nQ 33.40625 -1.421875 27.6875 -1.421875 \nQ 18.265625 -1.421875 13.375 4.4375 \nQ 8.5 10.296875 8.5 21.578125 \nz\nM 31.109375 56 \nz\n\" id=\"DejaVuSans-117\"/>\n      <path d=\"M 32.171875 -5.078125 \nQ 28.375 -14.84375 24.75 -17.8125 \nQ 21.140625 -20.796875 15.09375 -20.796875 \nL 7.90625 -20.796875 \nL 7.90625 -13.28125 \nL 13.1875 -13.28125 \nQ 16.890625 -13.28125 18.9375 -11.515625 \nQ 21 -9.765625 23.484375 -3.21875 \nL 25.09375 0.875 \nL 2.984375 54.6875 \nL 12.5 54.6875 \nL 29.59375 11.921875 \nL 46.6875 54.6875 \nL 56.203125 54.6875 \nz\n\" id=\"DejaVuSans-121\"/>\n     </defs>\n     <g transform=\"translate(14.798438 202.907656)rotate(-90)scale(0.1 -0.1)\">\n      <use xlink:href=\"#DejaVuSans-115\"/>\n      <use x=\"52.099609\" xlink:href=\"#DejaVuSans-112\"/>\n      <use x=\"115.576172\" xlink:href=\"#DejaVuSans-97\"/>\n      <use x=\"176.855469\" xlink:href=\"#DejaVuSans-114\"/>\n      <use x=\"217.96875\" xlink:href=\"#DejaVuSans-115\"/>\n      <use x=\"270.068359\" xlink:href=\"#DejaVuSans-101\"/>\n      <use x=\"331.591797\" xlink:href=\"#DejaVuSans-95\"/>\n      <use x=\"381.591797\" xlink:href=\"#DejaVuSans-99\"/>\n      <use x=\"436.572266\" xlink:href=\"#DejaVuSans-97\"/>\n      <use x=\"497.851562\" xlink:href=\"#DejaVuSans-116\"/>\n      <use x=\"537.060547\" xlink:href=\"#DejaVuSans-101\"/>\n      <use x=\"598.583984\" xlink:href=\"#DejaVuSans-103\"/>\n      <use x=\"662.060547\" xlink:href=\"#DejaVuSans-111\"/>\n      <use x=\"723.242188\" xlink:href=\"#DejaVuSans-114\"/>\n      <use x=\"764.355469\" xlink:href=\"#DejaVuSans-105\"/>\n      <use x=\"792.138672\" xlink:href=\"#DejaVuSans-99\"/>\n      <use x=\"847.119141\" xlink:href=\"#DejaVuSans-97\"/>\n      <use x=\"908.398438\" xlink:href=\"#DejaVuSans-108\"/>\n      <use x=\"936.181641\" xlink:href=\"#DejaVuSans-95\"/>\n      <use x=\"986.181641\" xlink:href=\"#DejaVuSans-97\"/>\n      <use x=\"1047.460938\" xlink:href=\"#DejaVuSans-99\"/>\n      <use x=\"1102.441406\" xlink:href=\"#DejaVuSans-99\"/>\n      <use x=\"1157.421875\" xlink:href=\"#DejaVuSans-117\"/>\n      <use x=\"1220.800781\" xlink:href=\"#DejaVuSans-114\"/>\n      <use x=\"1261.914062\" xlink:href=\"#DejaVuSans-97\"/>\n      <use x=\"1323.193359\" xlink:href=\"#DejaVuSans-99\"/>\n      <use x=\"1378.173828\" xlink:href=\"#DejaVuSans-121\"/>\n     </g>\n    </g>\n   </g>\n   <g id=\"line2d_10\">\n    <path clip-path=\"url(#p78ad6cb0db)\" d=\"M 65.640057 229.874489 \nL 99.458239 114.128404 \nL 133.27642 87.428896 \nL 167.094602 72.371382 \nL 200.912784 59.622854 \nL 234.730966 54.667817 \nL 268.549148 45.96048 \nL 302.36733 40.668665 \nL 336.185511 37.68598 \nL 370.003693 32.201761 \n\" style=\"fill:none;stroke:#0000ff;stroke-dasharray:5.55,2.4;stroke-dashoffset:0;stroke-width:1.5;\"/>\n    <defs>\n     <path d=\"M 0 3 \nC 0.795609 3 1.55874 2.683901 2.12132 2.12132 \nC 2.683901 1.55874 3 0.795609 3 0 \nC 3 -0.795609 2.683901 -1.55874 2.12132 -2.12132 \nC 1.55874 -2.683901 0.795609 -3 0 -3 \nC -0.795609 -3 -1.55874 -2.683901 -2.12132 -2.12132 \nC -2.683901 -1.55874 -3 -0.795609 -3 0 \nC -3 0.795609 -2.683901 1.55874 -2.12132 2.12132 \nC -1.55874 2.683901 -0.795609 3 0 3 \nz\n\" id=\"mf15583b542\" style=\"stroke:#0000ff;\"/>\n    </defs>\n    <g clip-path=\"url(#p78ad6cb0db)\">\n     <use style=\"fill:#0000ff;stroke:#0000ff;\" x=\"65.640057\" xlink:href=\"#mf15583b542\" y=\"229.874489\"/>\n     <use style=\"fill:#0000ff;stroke:#0000ff;\" x=\"99.458239\" xlink:href=\"#mf15583b542\" y=\"114.128404\"/>\n     <use style=\"fill:#0000ff;stroke:#0000ff;\" x=\"133.27642\" xlink:href=\"#mf15583b542\" y=\"87.428896\"/>\n     <use style=\"fill:#0000ff;stroke:#0000ff;\" x=\"167.094602\" xlink:href=\"#mf15583b542\" y=\"72.371382\"/>\n     <use style=\"fill:#0000ff;stroke:#0000ff;\" x=\"200.912784\" xlink:href=\"#mf15583b542\" y=\"59.622854\"/>\n     <use style=\"fill:#0000ff;stroke:#0000ff;\" x=\"234.730966\" xlink:href=\"#mf15583b542\" y=\"54.667817\"/>\n     <use style=\"fill:#0000ff;stroke:#0000ff;\" x=\"268.549148\" xlink:href=\"#mf15583b542\" y=\"45.96048\"/>\n     <use style=\"fill:#0000ff;stroke:#0000ff;\" x=\"302.36733\" xlink:href=\"#mf15583b542\" y=\"40.668665\"/>\n     <use style=\"fill:#0000ff;stroke:#0000ff;\" x=\"336.185511\" xlink:href=\"#mf15583b542\" y=\"37.68598\"/>\n     <use style=\"fill:#0000ff;stroke:#0000ff;\" x=\"370.003693\" xlink:href=\"#mf15583b542\" y=\"32.201761\"/>\n    </g>\n   </g>\n   <g id=\"line2d_11\">\n    <path clip-path=\"url(#p78ad6cb0db)\" d=\"M 65.640057 126.828759 \nL 99.458239 95.07787 \nL 133.27642 87.6213 \nL 167.094602 88.342885 \nL 200.912784 77.999831 \nL 234.730966 70.543261 \nL 268.549148 68.13793 \nL 302.36733 74.872915 \nL 336.185511 67.416202 \nL 370.003693 65.251446 \n\" style=\"fill:none;stroke:#ff0000;stroke-linecap:square;stroke-width:1.5;\"/>\n    <defs>\n     <path d=\"M 0 3 \nC 0.795609 3 1.55874 2.683901 2.12132 2.12132 \nC 2.683901 1.55874 3 0.795609 3 0 \nC 3 -0.795609 2.683901 -1.55874 2.12132 -2.12132 \nC 1.55874 -2.683901 0.795609 -3 0 -3 \nC -0.795609 -3 -1.55874 -2.683901 -2.12132 -2.12132 \nC -2.683901 -1.55874 -3 -0.795609 -3 0 \nC -3 0.795609 -2.683901 1.55874 -2.12132 2.12132 \nC -1.55874 2.683901 -0.795609 3 0 3 \nz\n\" id=\"m25ee20ed6f\" style=\"stroke:#ff0000;\"/>\n    </defs>\n    <g clip-path=\"url(#p78ad6cb0db)\">\n     <use style=\"fill:#ff0000;stroke:#ff0000;\" x=\"65.640057\" xlink:href=\"#m25ee20ed6f\" y=\"126.828759\"/>\n     <use style=\"fill:#ff0000;stroke:#ff0000;\" x=\"99.458239\" xlink:href=\"#m25ee20ed6f\" y=\"95.07787\"/>\n     <use style=\"fill:#ff0000;stroke:#ff0000;\" x=\"133.27642\" xlink:href=\"#m25ee20ed6f\" y=\"87.6213\"/>\n     <use style=\"fill:#ff0000;stroke:#ff0000;\" x=\"167.094602\" xlink:href=\"#m25ee20ed6f\" y=\"88.342885\"/>\n     <use style=\"fill:#ff0000;stroke:#ff0000;\" x=\"200.912784\" xlink:href=\"#m25ee20ed6f\" y=\"77.999831\"/>\n     <use style=\"fill:#ff0000;stroke:#ff0000;\" x=\"234.730966\" xlink:href=\"#m25ee20ed6f\" y=\"70.543261\"/>\n     <use style=\"fill:#ff0000;stroke:#ff0000;\" x=\"268.549148\" xlink:href=\"#m25ee20ed6f\" y=\"68.13793\"/>\n     <use style=\"fill:#ff0000;stroke:#ff0000;\" x=\"302.36733\" xlink:href=\"#m25ee20ed6f\" y=\"74.872915\"/>\n     <use style=\"fill:#ff0000;stroke:#ff0000;\" x=\"336.185511\" xlink:href=\"#m25ee20ed6f\" y=\"67.416202\"/>\n     <use style=\"fill:#ff0000;stroke:#ff0000;\" x=\"370.003693\" xlink:href=\"#m25ee20ed6f\" y=\"65.251446\"/>\n    </g>\n   </g>\n   <g id=\"patch_3\">\n    <path d=\"M 50.421875 239.758125 \nL 50.421875 22.318125 \n\" style=\"fill:none;stroke:#000000;stroke-linecap:square;stroke-linejoin:miter;stroke-width:0.8;\"/>\n   </g>\n   <g id=\"patch_4\">\n    <path d=\"M 385.221875 239.758125 \nL 385.221875 22.318125 \n\" style=\"fill:none;stroke:#000000;stroke-linecap:square;stroke-linejoin:miter;stroke-width:0.8;\"/>\n   </g>\n   <g id=\"patch_5\">\n    <path d=\"M 50.421875 239.758125 \nL 385.221875 239.758125 \n\" style=\"fill:none;stroke:#000000;stroke-linecap:square;stroke-linejoin:miter;stroke-width:0.8;\"/>\n   </g>\n   <g id=\"patch_6\">\n    <path d=\"M 50.421875 22.318125 \nL 385.221875 22.318125 \n\" style=\"fill:none;stroke:#000000;stroke-linecap:square;stroke-linejoin:miter;stroke-width:0.8;\"/>\n   </g>\n   <g id=\"text_12\">\n    <!-- Training and validation sparse_categorical_accuracy -->\n    <defs>\n     <path d=\"M -0.296875 72.90625 \nL 61.375 72.90625 \nL 61.375 64.59375 \nL 35.5 64.59375 \nL 35.5 0 \nL 25.59375 0 \nL 25.59375 64.59375 \nL -0.296875 64.59375 \nz\n\" id=\"DejaVuSans-84\"/>\n     <path d=\"M 54.890625 33.015625 \nL 54.890625 0 \nL 45.90625 0 \nL 45.90625 32.71875 \nQ 45.90625 40.484375 42.875 44.328125 \nQ 39.84375 48.1875 33.796875 48.1875 \nQ 26.515625 48.1875 22.3125 43.546875 \nQ 18.109375 38.921875 18.109375 30.90625 \nL 18.109375 0 \nL 9.078125 0 \nL 9.078125 54.6875 \nL 18.109375 54.6875 \nL 18.109375 46.1875 \nQ 21.34375 51.125 25.703125 53.5625 \nQ 30.078125 56 35.796875 56 \nQ 45.21875 56 50.046875 50.171875 \nQ 54.890625 44.34375 54.890625 33.015625 \nz\n\" id=\"DejaVuSans-110\"/>\n     <path id=\"DejaVuSans-32\"/>\n     <path d=\"M 45.40625 46.390625 \nL 45.40625 75.984375 \nL 54.390625 75.984375 \nL 54.390625 0 \nL 45.40625 0 \nL 45.40625 8.203125 \nQ 42.578125 3.328125 38.25 0.953125 \nQ 33.9375 -1.421875 27.875 -1.421875 \nQ 17.96875 -1.421875 11.734375 6.484375 \nQ 5.515625 14.40625 5.515625 27.296875 \nQ 5.515625 40.1875 11.734375 48.09375 \nQ 17.96875 56 27.875 56 \nQ 33.9375 56 38.25 53.625 \nQ 42.578125 51.265625 45.40625 46.390625 \nz\nM 14.796875 27.296875 \nQ 14.796875 17.390625 18.875 11.75 \nQ 22.953125 6.109375 30.078125 6.109375 \nQ 37.203125 6.109375 41.296875 11.75 \nQ 45.40625 17.390625 45.40625 27.296875 \nQ 45.40625 37.203125 41.296875 42.84375 \nQ 37.203125 48.484375 30.078125 48.484375 \nQ 22.953125 48.484375 18.875 42.84375 \nQ 14.796875 37.203125 14.796875 27.296875 \nz\n\" id=\"DejaVuSans-100\"/>\n     <path d=\"M 2.984375 54.6875 \nL 12.5 54.6875 \nL 29.59375 8.796875 \nL 46.6875 54.6875 \nL 56.203125 54.6875 \nL 35.6875 0 \nL 23.484375 0 \nz\n\" id=\"DejaVuSans-118\"/>\n    </defs>\n    <g transform=\"translate(61.357813 16.318125)scale(0.12 -0.12)\">\n     <use xlink:href=\"#DejaVuSans-84\"/>\n     <use x=\"46.333984\" xlink:href=\"#DejaVuSans-114\"/>\n     <use x=\"87.447266\" xlink:href=\"#DejaVuSans-97\"/>\n     <use x=\"148.726562\" xlink:href=\"#DejaVuSans-105\"/>\n     <use x=\"176.509766\" xlink:href=\"#DejaVuSans-110\"/>\n     <use x=\"239.888672\" xlink:href=\"#DejaVuSans-105\"/>\n     <use x=\"267.671875\" xlink:href=\"#DejaVuSans-110\"/>\n     <use x=\"331.050781\" xlink:href=\"#DejaVuSans-103\"/>\n     <use x=\"394.527344\" xlink:href=\"#DejaVuSans-32\"/>\n     <use x=\"426.314453\" xlink:href=\"#DejaVuSans-97\"/>\n     <use x=\"487.59375\" xlink:href=\"#DejaVuSans-110\"/>\n     <use x=\"550.972656\" xlink:href=\"#DejaVuSans-100\"/>\n     <use x=\"614.449219\" xlink:href=\"#DejaVuSans-32\"/>\n     <use x=\"646.236328\" xlink:href=\"#DejaVuSans-118\"/>\n     <use x=\"705.416016\" xlink:href=\"#DejaVuSans-97\"/>\n     <use x=\"766.695312\" xlink:href=\"#DejaVuSans-108\"/>\n     <use x=\"794.478516\" xlink:href=\"#DejaVuSans-105\"/>\n     <use x=\"822.261719\" xlink:href=\"#DejaVuSans-100\"/>\n     <use x=\"885.738281\" xlink:href=\"#DejaVuSans-97\"/>\n     <use x=\"947.017578\" xlink:href=\"#DejaVuSans-116\"/>\n     <use x=\"986.226562\" xlink:href=\"#DejaVuSans-105\"/>\n     <use x=\"1014.009766\" xlink:href=\"#DejaVuSans-111\"/>\n     <use x=\"1075.191406\" xlink:href=\"#DejaVuSans-110\"/>\n     <use x=\"1138.570312\" xlink:href=\"#DejaVuSans-32\"/>\n     <use x=\"1170.357422\" xlink:href=\"#DejaVuSans-115\"/>\n     <use x=\"1222.457031\" xlink:href=\"#DejaVuSans-112\"/>\n     <use x=\"1285.933594\" xlink:href=\"#DejaVuSans-97\"/>\n     <use x=\"1347.212891\" xlink:href=\"#DejaVuSans-114\"/>\n     <use x=\"1388.326172\" xlink:href=\"#DejaVuSans-115\"/>\n     <use x=\"1440.425781\" xlink:href=\"#DejaVuSans-101\"/>\n     <use x=\"1501.949219\" xlink:href=\"#DejaVuSans-95\"/>\n     <use x=\"1551.949219\" xlink:href=\"#DejaVuSans-99\"/>\n     <use x=\"1606.929688\" xlink:href=\"#DejaVuSans-97\"/>\n     <use x=\"1668.208984\" xlink:href=\"#DejaVuSans-116\"/>\n     <use x=\"1707.417969\" xlink:href=\"#DejaVuSans-101\"/>\n     <use x=\"1768.941406\" xlink:href=\"#DejaVuSans-103\"/>\n     <use x=\"1832.417969\" xlink:href=\"#DejaVuSans-111\"/>\n     <use x=\"1893.599609\" xlink:href=\"#DejaVuSans-114\"/>\n     <use x=\"1934.712891\" xlink:href=\"#DejaVuSans-105\"/>\n     <use x=\"1962.496094\" xlink:href=\"#DejaVuSans-99\"/>\n     <use x=\"2017.476562\" xlink:href=\"#DejaVuSans-97\"/>\n     <use x=\"2078.755859\" xlink:href=\"#DejaVuSans-108\"/>\n     <use x=\"2106.539062\" xlink:href=\"#DejaVuSans-95\"/>\n     <use x=\"2156.539062\" xlink:href=\"#DejaVuSans-97\"/>\n     <use x=\"2217.818359\" xlink:href=\"#DejaVuSans-99\"/>\n     <use x=\"2272.798828\" xlink:href=\"#DejaVuSans-99\"/>\n     <use x=\"2327.779297\" xlink:href=\"#DejaVuSans-117\"/>\n     <use x=\"2391.158203\" xlink:href=\"#DejaVuSans-114\"/>\n     <use x=\"2432.271484\" xlink:href=\"#DejaVuSans-97\"/>\n     <use x=\"2493.550781\" xlink:href=\"#DejaVuSans-99\"/>\n     <use x=\"2548.53125\" xlink:href=\"#DejaVuSans-121\"/>\n    </g>\n   </g>\n   <g id=\"legend_1\">\n    <g id=\"patch_7\">\n     <path d=\"M 174.207812 234.758125 \nL 378.221875 234.758125 \nQ 380.221875 234.758125 380.221875 232.758125 \nL 380.221875 203.845625 \nQ 380.221875 201.845625 378.221875 201.845625 \nL 174.207812 201.845625 \nQ 172.207812 201.845625 172.207812 203.845625 \nL 172.207812 232.758125 \nQ 172.207812 234.758125 174.207812 234.758125 \nz\n\" style=\"fill:#ffffff;opacity:0.8;stroke:#cccccc;stroke-linejoin:miter;\"/>\n    </g>\n    <g id=\"line2d_12\">\n     <path d=\"M 176.207812 209.944062 \nL 196.207812 209.944062 \n\" style=\"fill:none;stroke:#0000ff;stroke-dasharray:5.55,2.4;stroke-dashoffset:0;stroke-width:1.5;\"/>\n    </g>\n    <g id=\"line2d_13\">\n     <g>\n      <use style=\"fill:#0000ff;stroke:#0000ff;\" x=\"186.207812\" xlink:href=\"#mf15583b542\" y=\"209.944062\"/>\n     </g>\n    </g>\n    <g id=\"text_13\">\n     <!-- train_sparse_categorical_accuracy -->\n     <g transform=\"translate(204.207812 213.444062)scale(0.1 -0.1)\">\n      <use xlink:href=\"#DejaVuSans-116\"/>\n      <use x=\"39.208984\" xlink:href=\"#DejaVuSans-114\"/>\n      <use x=\"80.322266\" xlink:href=\"#DejaVuSans-97\"/>\n      <use x=\"141.601562\" xlink:href=\"#DejaVuSans-105\"/>\n      <use x=\"169.384766\" xlink:href=\"#DejaVuSans-110\"/>\n      <use x=\"232.763672\" xlink:href=\"#DejaVuSans-95\"/>\n      <use x=\"282.763672\" xlink:href=\"#DejaVuSans-115\"/>\n      <use x=\"334.863281\" xlink:href=\"#DejaVuSans-112\"/>\n      <use x=\"398.339844\" xlink:href=\"#DejaVuSans-97\"/>\n      <use x=\"459.619141\" xlink:href=\"#DejaVuSans-114\"/>\n      <use x=\"500.732422\" xlink:href=\"#DejaVuSans-115\"/>\n      <use x=\"552.832031\" xlink:href=\"#DejaVuSans-101\"/>\n      <use x=\"614.355469\" xlink:href=\"#DejaVuSans-95\"/>\n      <use x=\"664.355469\" xlink:href=\"#DejaVuSans-99\"/>\n      <use x=\"719.335938\" xlink:href=\"#DejaVuSans-97\"/>\n      <use x=\"780.615234\" xlink:href=\"#DejaVuSans-116\"/>\n      <use x=\"819.824219\" xlink:href=\"#DejaVuSans-101\"/>\n      <use x=\"881.347656\" xlink:href=\"#DejaVuSans-103\"/>\n      <use x=\"944.824219\" xlink:href=\"#DejaVuSans-111\"/>\n      <use x=\"1006.005859\" xlink:href=\"#DejaVuSans-114\"/>\n      <use x=\"1047.119141\" xlink:href=\"#DejaVuSans-105\"/>\n      <use x=\"1074.902344\" xlink:href=\"#DejaVuSans-99\"/>\n      <use x=\"1129.882812\" xlink:href=\"#DejaVuSans-97\"/>\n      <use x=\"1191.162109\" xlink:href=\"#DejaVuSans-108\"/>\n      <use x=\"1218.945312\" xlink:href=\"#DejaVuSans-95\"/>\n      <use x=\"1268.945312\" xlink:href=\"#DejaVuSans-97\"/>\n      <use x=\"1330.224609\" xlink:href=\"#DejaVuSans-99\"/>\n      <use x=\"1385.205078\" xlink:href=\"#DejaVuSans-99\"/>\n      <use x=\"1440.185547\" xlink:href=\"#DejaVuSans-117\"/>\n      <use x=\"1503.564453\" xlink:href=\"#DejaVuSans-114\"/>\n      <use x=\"1544.677734\" xlink:href=\"#DejaVuSans-97\"/>\n      <use x=\"1605.957031\" xlink:href=\"#DejaVuSans-99\"/>\n      <use x=\"1660.9375\" xlink:href=\"#DejaVuSans-121\"/>\n     </g>\n    </g>\n    <g id=\"line2d_14\">\n     <path d=\"M 176.207812 224.900312 \nL 196.207812 224.900312 \n\" style=\"fill:none;stroke:#ff0000;stroke-linecap:square;stroke-width:1.5;\"/>\n    </g>\n    <g id=\"line2d_15\">\n     <g>\n      <use style=\"fill:#ff0000;stroke:#ff0000;\" x=\"186.207812\" xlink:href=\"#m25ee20ed6f\" y=\"224.900312\"/>\n     </g>\n    </g>\n    <g id=\"text_14\">\n     <!-- val_sparse_categorical_accuracy -->\n     <g transform=\"translate(204.207812 228.400312)scale(0.1 -0.1)\">\n      <use xlink:href=\"#DejaVuSans-118\"/>\n      <use x=\"59.179688\" xlink:href=\"#DejaVuSans-97\"/>\n      <use x=\"120.458984\" xlink:href=\"#DejaVuSans-108\"/>\n      <use x=\"148.242188\" xlink:href=\"#DejaVuSans-95\"/>\n      <use x=\"198.242188\" xlink:href=\"#DejaVuSans-115\"/>\n      <use x=\"250.341797\" xlink:href=\"#DejaVuSans-112\"/>\n      <use x=\"313.818359\" xlink:href=\"#DejaVuSans-97\"/>\n      <use x=\"375.097656\" xlink:href=\"#DejaVuSans-114\"/>\n      <use x=\"416.210938\" xlink:href=\"#DejaVuSans-115\"/>\n      <use x=\"468.310547\" xlink:href=\"#DejaVuSans-101\"/>\n      <use x=\"529.833984\" xlink:href=\"#DejaVuSans-95\"/>\n      <use x=\"579.833984\" xlink:href=\"#DejaVuSans-99\"/>\n      <use x=\"634.814453\" xlink:href=\"#DejaVuSans-97\"/>\n      <use x=\"696.09375\" xlink:href=\"#DejaVuSans-116\"/>\n      <use x=\"735.302734\" xlink:href=\"#DejaVuSans-101\"/>\n      <use x=\"796.826172\" xlink:href=\"#DejaVuSans-103\"/>\n      <use x=\"860.302734\" xlink:href=\"#DejaVuSans-111\"/>\n      <use x=\"921.484375\" xlink:href=\"#DejaVuSans-114\"/>\n      <use x=\"962.597656\" xlink:href=\"#DejaVuSans-105\"/>\n      <use x=\"990.380859\" xlink:href=\"#DejaVuSans-99\"/>\n      <use x=\"1045.361328\" xlink:href=\"#DejaVuSans-97\"/>\n      <use x=\"1106.640625\" xlink:href=\"#DejaVuSans-108\"/>\n      <use x=\"1134.423828\" xlink:href=\"#DejaVuSans-95\"/>\n      <use x=\"1184.423828\" xlink:href=\"#DejaVuSans-97\"/>\n      <use x=\"1245.703125\" xlink:href=\"#DejaVuSans-99\"/>\n      <use x=\"1300.683594\" xlink:href=\"#DejaVuSans-99\"/>\n      <use x=\"1355.664062\" xlink:href=\"#DejaVuSans-117\"/>\n      <use x=\"1419.042969\" xlink:href=\"#DejaVuSans-114\"/>\n      <use x=\"1460.15625\" xlink:href=\"#DejaVuSans-97\"/>\n      <use x=\"1521.435547\" xlink:href=\"#DejaVuSans-99\"/>\n      <use x=\"1576.416016\" xlink:href=\"#DejaVuSans-121\"/>\n     </g>\n    </g>\n   </g>\n  </g>\n </g>\n <defs>\n  <clipPath id=\"p78ad6cb0db\">\n   <rect height=\"217.44\" width=\"334.8\" x=\"50.421875\" y=\"22.318125\"/>\n  </clipPath>\n </defs>\n</svg>\n"
          },
          "metadata": {
            "needs_background": "light"
          }
        }
      ]
    },
    {
      "cell_type": "code",
      "metadata": {
        "id": "JZFBSgnEO9YF",
        "colab": {
          "base_uri": "https://localhost:8080/"
        },
        "outputId": "2d59343c-38c9-43d7-bcad-5df28ca7ceff"
      },
      "source": [
        "model.evaluate(x = x_test,y = y_test)"
      ],
      "execution_count": null,
      "outputs": [
        {
          "output_type": "stream",
          "name": "stdout",
          "text": [
            "313/313 [==============================] - 0s 1ms/step - loss: 0.1031 - sparse_categorical_accuracy: 0.9723\n"
          ]
        },
        {
          "output_type": "execute_result",
          "data": {
            "text/plain": [
              "[0.10314247757196426, 0.9722999930381775]"
            ]
          },
          "metadata": {},
          "execution_count": 28
        }
      ]
    },
    {
      "cell_type": "code",
      "metadata": {
        "id": "6KUoRB3q2RrM",
        "colab": {
          "base_uri": "https://localhost:8080/"
        },
        "outputId": "f2f1b9e1-6eb1-46f9-d20d-fa9e24708fcc"
      },
      "source": [
        "# Evaluate the model on test set\n",
        "score = model.evaluate(x_test, y_test, verbose=0)[1]\n",
        "\n",
        "# Print test accuracy\n",
        "print('\\n', 'Test accuracy:', score*100)"
      ],
      "execution_count": null,
      "outputs": [
        {
          "output_type": "stream",
          "name": "stdout",
          "text": [
            "\n",
            " Test accuracy: 97.22999930381775\n"
          ]
        }
      ]
    }
  ]
}